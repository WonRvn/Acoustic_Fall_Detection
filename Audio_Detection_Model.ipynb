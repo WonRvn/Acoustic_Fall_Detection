{
 "cells": [
  {
   "cell_type": "code",
   "execution_count": 38,
   "metadata": {},
   "outputs": [],
   "source": [
    "import pandas as pd\n",
    "import numpy as np"
   ]
  },
  {
   "cell_type": "code",
   "execution_count": 39,
   "metadata": {},
   "outputs": [],
   "source": [
    "df = pd.read_csv('final_dataset.csv')"
   ]
  },
  {
   "cell_type": "code",
   "execution_count": 40,
   "metadata": {},
   "outputs": [],
   "source": [
    "import pandas as pd\n",
    "from sklearn.model_selection import train_test_split\n",
    "from sklearn.preprocessing import StandardScaler"
   ]
  },
  {
   "cell_type": "code",
   "execution_count": 41,
   "metadata": {},
   "outputs": [],
   "source": [
    "scaler = StandardScaler()"
   ]
  },
  {
   "cell_type": "code",
   "execution_count": 42,
   "metadata": {},
   "outputs": [
    {
     "name": "stdout",
     "output_type": "stream",
     "text": [
      "Train set: 1714 samples\n",
      "Validation set: 214 samples\n",
      "Test set: 215 samples\n",
      "Train set label distribution: [855 859]\n",
      "Validation set label distribution: [107 107]\n",
      "Test set label distribution: [107 108]\n"
     ]
    }
   ],
   "source": [
    "# CSV 파일을 읽어들입니다.\n",
    "df = pd.read_csv('semi_dataset.csv')\n",
    "\n",
    "# 특성과 레이블을 분리합니다.\n",
    "X = df.drop('label', axis=1).values  # 특성 데이터\n",
    "y = df['label'].values  # 레이블 데이터\n",
    "\n",
    "\n",
    "# 훈련 세트와 나머지(검증+테스트) 세트로 분할합니다. (80% : 20%)\n",
    "X_train, X_temp, y_train, y_temp = train_test_split(X, y, test_size=0.2, stratify=y, random_state=42)\n",
    "\n",
    "X_train = scaler.fit_transform(X_train)\n",
    "X_temp = scaler.transform(X_temp)\n",
    "\n",
    "# X_train = X_train.reshape((X_train.shape[0], 1, X_train.shape[1]))\n",
    "# X_temp = X_temp.reshape((X_temp.shape[0], 1, X_temp.shape[1]))\n",
    "\n",
    "# 나머지 데이터를 검증 세트와 테스트 세트로 분할합니다. (50% : 50%)\n",
    "X_val, X_test, y_val, y_test = train_test_split(X_temp, y_temp, test_size=0.5, stratify=y_temp, random_state=42)\n",
    "\n",
    "# 분할된 데이터 세트의 크기를 출력합니다.\n",
    "print(f\"Train set: {X_train.shape[0]} samples\")\n",
    "print(f\"Validation set: {X_val.shape[0]} samples\")\n",
    "print(f\"Test set: {X_test.shape[0]} samples\")\n",
    "\n",
    "# 분할된 데이터 세트의 레이블 분포를 출력합니다.\n",
    "print(f\"Train set label distribution: {np.bincount(y_train.astype(int))}\")\n",
    "print(f\"Validation set label distribution: {np.bincount(y_val.astype(int))}\")\n",
    "print(f\"Test set label distribution: {np.bincount(y_test.astype(int))}\")"
   ]
  },
  {
   "cell_type": "code",
   "execution_count": 43,
   "metadata": {},
   "outputs": [
    {
     "data": {
      "text/plain": [
       "(1714, 128)"
      ]
     },
     "execution_count": 43,
     "metadata": {},
     "output_type": "execute_result"
    }
   ],
   "source": [
    "X_train.shape"
   ]
  },
  {
   "cell_type": "code",
   "execution_count": 44,
   "metadata": {},
   "outputs": [],
   "source": [
    "from sklearn.neighbors import KNeighborsClassifier\n",
    "from sklearn.metrics import classification_report, confusion_matrix\n",
    "import matplotlib.pyplot as plt\n",
    "from sklearn.metrics import accuracy_score\n",
    "import seaborn as sns\n",
    "from pycaret.classification import *"
   ]
  },
  {
   "cell_type": "code",
   "execution_count": 45,
   "metadata": {},
   "outputs": [],
   "source": [
    "# # PyCaret 설정\n",
    "# # train_size를 0.8로 설정하여 학습 데이터와 테스트 데이터를 80:20으로 분할\n",
    "# exp_clf = setup(data = df, target = 'label', session_id=123, train_size=0.8)\n",
    "\n",
    "# # 모든 분류 모델을 AUC 기준으로 비교\n",
    "# best_model = compare_models(sort = 'Accuracy')\n",
    "\n",
    "# # 가장 성능이 좋은 모델을 출력합니다.\n",
    "# print(best_model)"
   ]
  },
  {
   "cell_type": "code",
   "execution_count": 46,
   "metadata": {},
   "outputs": [],
   "source": [
    "# # PyCaret 설정\n",
    "# exp_clf = setup(data = df, target = 'label', session_id=123)\n",
    "\n",
    "# # RandomForest 모델 생성\n",
    "# et_model = create_model('knn', fold = 5)\n",
    "\n",
    "# # 모델 학습\n",
    "# et_tuned = tune_model(et_model, optimize = 'Accuracy')\n",
    "\n",
    "# # 검증 세트를 이용한 예측\n",
    "# predictions = predict_model(et_tuned)\n",
    "\n",
    "# # 모델의 성능 평가\n",
    "# evaluate_model(et_tuned)"
   ]
  },
  {
   "cell_type": "code",
   "execution_count": 47,
   "metadata": {},
   "outputs": [
    {
     "name": "stdout",
     "output_type": "stream",
     "text": [
      "Accuracy: 0.6963\n",
      "\n",
      "Classification Report:\n",
      "              precision    recall  f1-score   support\n",
      "\n",
      "           0       0.74      0.60      0.66       107\n",
      "           1       0.66      0.79      0.72       107\n",
      "\n",
      "    accuracy                           0.70       214\n",
      "   macro avg       0.70      0.70      0.69       214\n",
      "weighted avg       0.70      0.70      0.69       214\n",
      "\n"
     ]
    },
    {
     "data": {
      "image/png": "[encoded data removed]",
      "text/plain": [
       "<Figure size 800x550 with 2 Axes>"
      ]
     },
     "metadata": {},
     "output_type": "display_data"
    }
   ],
   "source": [
    "from sklearn.metrics import accuracy_score, classification_report, confusion_matrix\n",
    "import matplotlib.pyplot as plt\n",
    "import seaborn as sns\n",
    "from sklearn.neighbors import KNeighborsClassifier\n",
    "\n",
    "# KNeighborsClassifier 모델 구성\n",
    "knn_classifier = KNeighborsClassifier(n_neighbors=42)\n",
    "\n",
    "# 모델 학습\n",
    "knn_classifier.fit(X_train, y_train)\n",
    "\n",
    "# 검증 세트를 이용해 예측을 수행합니다.\n",
    "y_pred = knn_classifier.predict(X_val)\n",
    "\n",
    "# 정확도를 계산하고 출력합니다.\n",
    "accuracy = accuracy_score(y_val, y_pred)\n",
    "print(f\"Accuracy: {accuracy:.4f}\")\n",
    "\n",
    "# 분류 리포트를 생성하고 출력합니다.\n",
    "class_report = classification_report(y_val, y_pred)\n",
    "print(\"\\nClassification Report:\")\n",
    "print(class_report)\n",
    "\n",
    "# 혼동 행렬을 생성하고 시각화합니다.\n",
    "conf_matrix = confusion_matrix(y_val, y_pred)\n",
    "sns.heatmap(conf_matrix, annot=True, fmt='d', cmap=\"Blues\")\n",
    "plt.xlabel('Predicted Label')\n",
    "plt.ylabel('True Label')\n",
    "plt.title('Confusion Matrix for KNN Classifier')\n",
    "plt.show()\n"
   ]
  },
  {
   "cell_type": "code",
   "execution_count": 48,
   "metadata": {},
   "outputs": [
    {
     "name": "stdout",
     "output_type": "stream",
     "text": [
      "Training Accuracy: 0.7690\n",
      "Validation Accuracy: 0.6963\n",
      "The model is overfitting.\n"
     ]
    }
   ],
   "source": [
    "# 훈련 세트에 대한 예측을 수행합니다.\n",
    "y_train_pred = knn_classifier.predict(X_train)\n",
    "\n",
    "# 훈련 세트의 정확도를 계산하고 출력합니다.\n",
    "train_accuracy = accuracy_score(y_train, y_train_pred)\n",
    "print(f\"Training Accuracy: {train_accuracy:.4f}\")\n",
    "\n",
    "# 검증 세트를 이용해 예측을 수행합니다.\n",
    "y_pred = knn_classifier.predict(X_val)\n",
    "\n",
    "# 검증 세트의 정확도를 계산하고 출력합니다.\n",
    "val_accuracy = accuracy_score(y_val, y_pred)\n",
    "print(f\"Validation Accuracy: {val_accuracy:.4f}\")\n",
    "\n",
    "# 과적합 확인\n",
    "if train_accuracy > val_accuracy:\n",
    "    print('The model is overfitting.')\n",
    "else:\n",
    "    print('The model is not overfitting.')"
   ]
  },
  {
   "cell_type": "markdown",
   "metadata": {},
   "source": [
    "### **PyAudio Setup**"
   ]
  },
  {
   "cell_type": "code",
   "execution_count": 49,
   "metadata": {},
   "outputs": [],
   "source": [
    "import pyaudio"
   ]
  },
  {
   "cell_type": "code",
   "execution_count": 50,
   "metadata": {},
   "outputs": [],
   "source": [
    "FORMAT = pyaudio.paInt16\n",
    "CHANNELS = 1\n",
    "SAMPLE_RATE = 16000\n",
    "CHUNK = int(SAMPLE_RATE / 10)\n",
    "\n",
    "audio = pyaudio.PyAudio()"
   ]
  },
  {
   "cell_type": "code",
   "execution_count": 51,
   "metadata": {},
   "outputs": [],
   "source": [
    "def int2float(sound):\n",
    "    abs_max = np.abs(sound).max()\n",
    "    sound = sound.astype('float32')\n",
    "    if abs_max > 0:\n",
    "        sound *= 1/32768\n",
    "    sound = sound.squeeze()  # depends on the use case\n",
    "    return sound"
   ]
  },
  {
   "cell_type": "code",
   "execution_count": 54,
   "metadata": {},
   "outputs": [],
   "source": [
    "import librosa\n",
    "\n",
    "continue_recording = True\n",
    "\n",
    "# def stop():\n",
    "#     input(\"Press Enter to stop the recording:\")\n",
    "#     global continue_recording\n",
    "#     continue_recording = False\n",
    "\n",
    "def start_recording():\n",
    "\n",
    "    stream = audio.open(format=FORMAT,\n",
    "                    channels=CHANNELS,\n",
    "                    rate=SAMPLE_RATE,\n",
    "                    input=True,\n",
    "                    frames_per_buffer=CHUNK)\n",
    "\n",
    "    data = []\n",
    "    \n",
    "    global continue_recording\n",
    "    continue_recording = True\n",
    "\n",
    "    while continue_recording:\n",
    "    \n",
    "        audio_chunk = stream.read(CHUNK)\n",
    "        data.append(audio_chunk)\n",
    "\n",
    "        # audio_int16 = np.frombuffer(audio_chunk, np.int16)\n",
    "        # audio_float32 = int2float(audio_int16)\n",
    "\n",
    "        # Convert the audio to a suitable format for YAMnet\n",
    "        waveform = np.frombuffer(audio_chunk, dtype=np.int16) / 32768.0\n",
    "        waveform = waveform.astype(np.float32)\n",
    "        \n",
    "        # Extract Log Mel Spectrogram features\n",
    "        spectrogram_features_list = []\n",
    "        predictions = []\n",
    "\n",
    "        n_fft_value = min(2048, len(waveform))\n",
    "\n",
    "        spectrogram_features = librosa.feature.melspectrogram(y=waveform, sr=SAMPLE_RATE, n_fft=n_fft_value, n_mels=128)\n",
    "        spectrogram_features = librosa.power_to_db(spectrogram_features, ref=np.max)\n",
    "        spectrogram_features_list.append(spectrogram_features)\n",
    "        spectrogram_aggregated = np.mean(spectrogram_features, axis=1).reshape(1, -1) \n",
    "\n",
    "        # Ensure the feature count is correct\n",
    "        if spectrogram_aggregated.shape[1] != scaler.n_features_in_:\n",
    "            raise ValueError(f\"Incorrect number of features. Expected {scaler.n_features_in_}, got {spectrogram_aggregated.shape[1]}\")\n",
    "\n",
    "        # Scale features\n",
    "        spectrogram_scaled = scaler.transform(spectrogram_aggregated)\n",
    "\n",
    "        # Inside your loop, after SVC prediction\n",
    "        fall_detection_prediction = knn_classifier.predict(spectrogram_scaled)\n",
    "        predictions.append(fall_detection_prediction)\n",
    "\n",
    "        if fall_detection_prediction == 1:\n",
    "            print(\"Fall Detected\")\n",
    "            break"
   ]
  },
  {
   "cell_type": "code",
   "execution_count": 56,
   "metadata": {},
   "outputs": [
    {
     "name": "stdout",
     "output_type": "stream",
     "text": [
      "Fall Detected\n"
     ]
    }
   ],
   "source": [
    "start_recording()"
   ]
  },
  {
   "cell_type": "code",
   "execution_count": null,
   "metadata": {},
   "outputs": [],
   "source": []
  }
 ],
 "metadata": {
  "kernelspec": {
   "display_name": "Python 3",
   "language": "python",
   "name": "python3"
  },
  "language_info": {
   "codemirror_mode": {
    "name": "ipython",
    "version": 3
   },
   "file_extension": ".py",
   "mimetype": "text/x-python",
   "name": "python",
   "nbconvert_exporter": "python",
   "pygments_lexer": "ipython3",
   "version": "3.9.13"
  }
 },
 "nbformat": 4,
 "nbformat_minor": 2
}
