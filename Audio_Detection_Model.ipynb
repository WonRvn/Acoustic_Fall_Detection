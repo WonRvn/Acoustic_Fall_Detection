{
 "cells": [
  {
   "cell_type": "code",
   "execution_count": 1,
   "metadata": {},
   "outputs": [],
   "source": [
    "import pandas as pd\n",
    "import numpy as np"
   ]
  },
  {
   "cell_type": "code",
   "execution_count": 2,
   "metadata": {},
   "outputs": [],
   "source": [
    "df = pd.read_csv('final_dataset.csv')"
   ]
  },
  {
   "cell_type": "code",
   "execution_count": 3,
   "metadata": {},
   "outputs": [],
   "source": [
    "import pandas as pd\n",
    "from sklearn.model_selection import train_test_split\n",
    "from sklearn.preprocessing import StandardScaler"
   ]
  },
  {
   "cell_type": "code",
   "execution_count": 4,
   "metadata": {},
   "outputs": [],
   "source": [
    "scaler = StandardScaler()"
   ]
  },
  {
   "cell_type": "code",
   "execution_count": 5,
   "metadata": {},
   "outputs": [
    {
     "name": "stdout",
     "output_type": "stream",
     "text": [
      "Train set: 1954 samples\n",
      "Validation set: 244 samples\n",
      "Test set: 245 samples\n",
      "Train set label distribution: [980 974]\n",
      "Validation set label distribution: [122 122]\n",
      "Test set label distribution: [123 122]\n"
     ]
    }
   ],
   "source": [
    "# CSV 파일을 읽어들입니다.\n",
    "df = pd.read_csv('final_dataset.csv')\n",
    "\n",
    "# 특성과 레이블을 분리합니다.\n",
    "X = df.drop('label', axis=1).values  # 특성 데이터\n",
    "y = df['label'].values  # 레이블 데이터\n",
    "\n",
    "\n",
    "# 훈련 세트와 나머지(검증+테스트) 세트로 분할합니다. (80% : 20%)\n",
    "X_train, X_temp, y_train, y_temp = train_test_split(X, y, test_size=0.2, stratify=y, random_state=42)\n",
    "\n",
    "X_train = scaler.fit_transform(X_train)\n",
    "X_temp = scaler.transform(X_temp)\n",
    "\n",
    "# X_train = X_train.reshape((X_train.shape[0], 1, X_train.shape[1]))\n",
    "# X_temp = X_temp.reshape((X_temp.shape[0], 1, X_temp.shape[1]))\n",
    "\n",
    "# 나머지 데이터를 검증 세트와 테스트 세트로 분할합니다. (50% : 50%)\n",
    "X_val, X_test, y_val, y_test = train_test_split(X_temp, y_temp, test_size=0.5, stratify=y_temp, random_state=42)\n",
    "\n",
    "# 분할된 데이터 세트의 크기를 출력합니다.\n",
    "print(f\"Train set: {X_train.shape[0]} samples\")\n",
    "print(f\"Validation set: {X_val.shape[0]} samples\")\n",
    "print(f\"Test set: {X_test.shape[0]} samples\")\n",
    "\n",
    "# 분할된 데이터 세트의 레이블 분포를 출력합니다.\n",
    "print(f\"Train set label distribution: {np.bincount(y_train.astype(int))}\")\n",
    "print(f\"Validation set label distribution: {np.bincount(y_val.astype(int))}\")\n",
    "print(f\"Test set label distribution: {np.bincount(y_test.astype(int))}\")"
   ]
  },
  {
   "cell_type": "code",
   "execution_count": 6,
   "metadata": {},
   "outputs": [
    {
     "data": {
      "text/plain": [
       "(1954, 125)"
      ]
     },
     "execution_count": 6,
     "metadata": {},
     "output_type": "execute_result"
    }
   ],
   "source": [
    "X_train.shape"
   ]
  },
  {
   "cell_type": "code",
   "execution_count": 7,
   "metadata": {},
   "outputs": [],
   "source": [
    "from sklearn.neighbors import KNeighborsClassifier\n",
    "from sklearn.metrics import classification_report, confusion_matrix\n",
    "import matplotlib.pyplot as plt\n",
    "from sklearn.metrics import accuracy_score\n",
    "import seaborn as sns\n"
   ]
  },
  {
   "cell_type": "code",
   "execution_count": 8,
   "metadata": {},
   "outputs": [
    {
     "name": "stdout",
     "output_type": "stream",
     "text": [
      "Accuracy: 0.9344\n",
      "\n",
      "Classification Report:\n",
      "              precision    recall  f1-score   support\n",
      "\n",
      "           0       0.95      0.92      0.93       122\n",
      "           1       0.92      0.95      0.94       122\n",
      "\n",
      "    accuracy                           0.93       244\n",
      "   macro avg       0.93      0.93      0.93       244\n",
      "weighted avg       0.93      0.93      0.93       244\n",
      "\n"
     ]
    },
    {
     "data": {
      "image/png": "[encoded data removed]",
      "text/plain": [
       "<Figure size 640x480 with 2 Axes>"
      ]
     },
     "metadata": {},
     "output_type": "display_data"
    }
   ],
   "source": [
    "# KNN 모델 구성\n",
    "knn_classifier = KNeighborsClassifier(n_neighbors=10)\n",
    "\n",
    "# 모델 학습\n",
    "knn_classifier.fit(X_train, y_train)\n",
    "\n",
    "# 검증 세트를 이용해 예측을 수행합니다.\n",
    "y_pred = knn_classifier.predict(X_val)\n",
    "\n",
    "# 정확도를 계산하고 출력합니다.\n",
    "accuracy = accuracy_score(y_val, y_pred)\n",
    "print(f\"Accuracy: {accuracy:.4f}\")\n",
    "\n",
    "# 분류 리포트를 생성하고 출력합니다.\n",
    "class_report = classification_report(y_val, y_pred)\n",
    "print(\"\\nClassification Report:\")\n",
    "print(class_report)\n",
    "\n",
    "# 혼동 행렬을 생성하고 시각화합니다.\n",
    "conf_matrix = confusion_matrix(y_val, y_pred)\n",
    "sns.heatmap(conf_matrix, annot=True, fmt='d', cmap=\"Blues\")\n",
    "plt.xlabel('Predicted Label')\n",
    "plt.ylabel('True Label')\n",
    "plt.title('Confusion Matrix for KNN Classifier')\n",
    "plt.show()"
   ]
  },
  {
   "cell_type": "markdown",
   "metadata": {},
   "source": [
    "### **PyAudio Setup**"
   ]
  },
  {
   "cell_type": "code",
   "execution_count": 9,
   "metadata": {},
   "outputs": [],
   "source": [
    "import pyaudio"
   ]
  },
  {
   "cell_type": "code",
   "execution_count": 23,
   "metadata": {},
   "outputs": [],
   "source": [
    "FORMAT = pyaudio.paInt16\n",
    "CHANNELS = 1\n",
    "SAMPLE_RATE = 16000\n",
    "CHUNK = int(SAMPLE_RATE / 10)\n",
    "\n",
    "audio = pyaudio.PyAudio()"
   ]
  },
  {
   "cell_type": "code",
   "execution_count": 24,
   "metadata": {},
   "outputs": [],
   "source": [
    "def int2float(sound):\n",
    "    abs_max = np.abs(sound).max()\n",
    "    sound = sound.astype('float32')\n",
    "    if abs_max > 0:\n",
    "        sound *= 1/32768\n",
    "    sound = sound.squeeze()  # depends on the use case\n",
    "    return sound"
   ]
  },
  {
   "cell_type": "code",
   "execution_count": 27,
   "metadata": {},
   "outputs": [],
   "source": [
    "import librosa\n",
    "\n",
    "continue_recording = True\n",
    "\n",
    "# def stop():\n",
    "#     input(\"Press Enter to stop the recording:\")\n",
    "#     global continue_recording\n",
    "#     continue_recording = False\n",
    "\n",
    "def start_recording():\n",
    "\n",
    "    stream = audio.open(format=FORMAT,\n",
    "                    channels=CHANNELS,\n",
    "                    rate=SAMPLE_RATE,\n",
    "                    input=True,\n",
    "                    frames_per_buffer=CHUNK)\n",
    "\n",
    "    data = []\n",
    "    \n",
    "    global continue_recording\n",
    "    continue_recording = True\n",
    "\n",
    "    \n",
    "    while continue_recording:\n",
    "    \n",
    "        audio_chunk = stream.read(CHUNK)\n",
    "        data.append(audio_chunk)\n",
    "\n",
    "        audio_int16 = np.frombuffer(audio_chunk, np.int16)\n",
    "        audio_float32 = int2float(audio_int16)\n",
    "\n",
    "        # Convert the audentio to a suitable format for YAMnet\n",
    "        waveform = np.frombuffer(audio_chunk, dtype=np.int16) / 32768.0\n",
    "        waveform = waveform.astype(np.float32)\n",
    "        \n",
    "        # Extract MFCC features\n",
    "        n_mfcc = 125  # Adjust this based on your model's training\n",
    "        mfcc_features_list = []\n",
    "        predictions = []\n",
    "\n",
    "        n_fft_value = min(2048, len(waveform))\n",
    "\n",
    "        mfcc_features = librosa.feature.mfcc(y=waveform, sr=SAMPLE_RATE, n_mfcc=n_mfcc, n_fft=n_fft_value)\n",
    "        mfcc_features_list.append(mfcc_features)\n",
    "        mfcc_aggregated = np.mean(mfcc_features, axis=1).reshape(1, -1)\n",
    "\n",
    "        # Ensure the feature count is correct\n",
    "        if mfcc_aggregated.shape[1] != scaler.n_features_in_:\n",
    "            raise ValueError(f\"Incorrect number of features. Expected {scaler.n_features_in_}, got {mfcc_aggregated.shape[1]}\")\n",
    "\n",
    "        # Scale features\n",
    "        mfcc_scaled = scaler.transform(mfcc_aggregated)\n",
    "\n",
    "        # Inside your loop, after SVC prediction\n",
    "        fall_detection_prediction = knn_classifier.predict(mfcc_scaled)\n",
    "        predictions.append(fall_detection_prediction)\n",
    "\n",
    "        if fall_detection_prediction == 1:\n",
    "            print(\"Fall Detected\")\n",
    "            # play_audio_alert('security-alarm.mp3')\n",
    "            break\n",
    "\n",
    "    # pp.finalize()\n"
   ]
  },
  {
   "cell_type": "code",
   "execution_count": 28,
   "metadata": {},
   "outputs": [
    {
     "name": "stdout",
     "output_type": "stream",
     "text": [
      "Fall Detected\n"
     ]
    }
   ],
   "source": [
    "start_recording()"
   ]
  },
  {
   "cell_type": "code",
   "execution_count": null,
   "metadata": {},
   "outputs": [],
   "source": []
  }
 ],
 "metadata": {
  "kernelspec": {
   "display_name": "Python 3",
   "language": "python",
   "name": "python3"
  },
  "language_info": {
   "codemirror_mode": {
    "name": "ipython",
    "version": 3
   },
   "file_extension": ".py",
   "mimetype": "text/x-python",
   "name": "python",
   "nbconvert_exporter": "python",
   "pygments_lexer": "ipython3",
   "version": "3.9.13"
  }
 },
 "nbformat": 4,
 "nbformat_minor": 2
}
