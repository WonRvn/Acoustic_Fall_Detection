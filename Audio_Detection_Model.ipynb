{
 "cells": [
  {
   "cell_type": "code",
   "execution_count": 27,
   "metadata": {},
   "outputs": [],
   "source": [
    "import pandas as pd\n",
    "import numpy as np"
   ]
  },
  {
   "cell_type": "code",
   "execution_count": 28,
   "metadata": {},
   "outputs": [],
   "source": [
    "df = pd.read_csv('final_dataset.csv')"
   ]
  },
  {
   "cell_type": "code",
   "execution_count": 29,
   "metadata": {},
   "outputs": [],
   "source": [
    "import pandas as pd\n",
    "from sklearn.model_selection import train_test_split\n",
    "from sklearn.preprocessing import StandardScaler"
   ]
  },
  {
   "cell_type": "code",
   "execution_count": 30,
   "metadata": {},
   "outputs": [],
   "source": [
    "scaler = StandardScaler()"
   ]
  },
  {
   "cell_type": "code",
   "execution_count": 31,
   "metadata": {},
   "outputs": [
    {
     "name": "stdout",
     "output_type": "stream",
     "text": [
      "Train set: 1365 samples\n",
      "Validation set: 171 samples\n",
      "Test set: 171 samples\n",
      "Train set label distribution: [855 510]\n",
      "Validation set label distribution: [107  64]\n",
      "Test set label distribution: [107  64]\n"
     ]
    }
   ],
   "source": [
    "# CSV 파일을 읽어들입니다.\n",
    "df = pd.read_csv('semi_dataset.csv')\n",
    "\n",
    "# 특성과 레이블을 분리합니다.\n",
    "X = df.drop('label', axis=1).values  # 특성 데이터\n",
    "y = df['label'].values  # 레이블 데이터\n",
    "\n",
    "\n",
    "# 훈련 세트와 나머지(검증+테스트) 세트로 분할합니다. (80% : 20%)\n",
    "X_train, X_temp, y_train, y_temp = train_test_split(X, y, test_size=0.2, stratify=y, random_state=42)\n",
    "\n",
    "X_train = scaler.fit_transform(X_train)\n",
    "X_temp = scaler.transform(X_temp)\n",
    "\n",
    "# X_train = X_train.reshape((X_train.shape[0], 1, X_train.shape[1]))\n",
    "# X_temp = X_temp.reshape((X_temp.shape[0], 1, X_temp.shape[1]))\n",
    "\n",
    "# 나머지 데이터를 검증 세트와 테스트 세트로 분할합니다. (50% : 50%)\n",
    "X_val, X_test, y_val, y_test = train_test_split(X_temp, y_temp, test_size=0.5, stratify=y_temp, random_state=42)\n",
    "\n",
    "# 분할된 데이터 세트의 크기를 출력합니다.\n",
    "print(f\"Train set: {X_train.shape[0]} samples\")\n",
    "print(f\"Validation set: {X_val.shape[0]} samples\")\n",
    "print(f\"Test set: {X_test.shape[0]} samples\")\n",
    "\n",
    "# 분할된 데이터 세트의 레이블 분포를 출력합니다.\n",
    "print(f\"Train set label distribution: {np.bincount(y_train.astype(int))}\")\n",
    "print(f\"Validation set label distribution: {np.bincount(y_val.astype(int))}\")\n",
    "print(f\"Test set label distribution: {np.bincount(y_test.astype(int))}\")"
   ]
  },
  {
   "cell_type": "code",
   "execution_count": 32,
   "metadata": {},
   "outputs": [
    {
     "data": {
      "text/plain": [
       "(1365, 248)"
      ]
     },
     "execution_count": 32,
     "metadata": {},
     "output_type": "execute_result"
    }
   ],
   "source": [
    "X_train.shape"
   ]
  },
  {
   "cell_type": "code",
   "execution_count": 33,
   "metadata": {},
   "outputs": [],
   "source": [
    "from sklearn.neighbors import KNeighborsClassifier\n",
    "from sklearn.metrics import classification_report, confusion_matrix\n",
    "import matplotlib.pyplot as plt\n",
    "from sklearn.metrics import accuracy_score\n",
    "import seaborn as sns\n",
    "from pycaret.classification import *"
   ]
  },
  {
   "cell_type": "code",
   "execution_count": 34,
   "metadata": {},
   "outputs": [],
   "source": [
    "# # PyCaret 설정\n",
    "# # train_size를 0.8로 설정하여 학습 데이터와 테스트 데이터를 80:20으로 분할\n",
    "# exp_clf = setup(data = df, target = 'label', session_id=123, train_size=0.8)\n",
    "\n",
    "# # 모든 분류 모델을 AUC 기준으로 비교\n",
    "# best_model = compare_models(sort = 'Accuracy')\n",
    "\n",
    "# # 가장 성능이 좋은 모델을 출력합니다.\n",
    "# print(best_model)"
   ]
  },
  {
   "cell_type": "code",
   "execution_count": 35,
   "metadata": {},
   "outputs": [
    {
     "data": {
      "text/html": [
       "<style type=\"text/css\">\n",
       "#T_50454_row8_col1 {\n",
       "  background-color: lightgreen;\n",
       "}\n",
       "</style>\n",
       "<table id=\"T_50454\">\n",
       "  <thead>\n",
       "    <tr>\n",
       "      <th class=\"blank level0\" >&nbsp;</th>\n",
       "      <th id=\"T_50454_level0_col0\" class=\"col_heading level0 col0\" >Description</th>\n",
       "      <th id=\"T_50454_level0_col1\" class=\"col_heading level0 col1\" >Value</th>\n",
       "    </tr>\n",
       "  </thead>\n",
       "  <tbody>\n",
       "    <tr>\n",
       "      <th id=\"T_50454_level0_row0\" class=\"row_heading level0 row0\" >0</th>\n",
       "      <td id=\"T_50454_row0_col0\" class=\"data row0 col0\" >Session id</td>\n",
       "      <td id=\"T_50454_row0_col1\" class=\"data row0 col1\" >123</td>\n",
       "    </tr>\n",
       "    <tr>\n",
       "      <th id=\"T_50454_level0_row1\" class=\"row_heading level0 row1\" >1</th>\n",
       "      <td id=\"T_50454_row1_col0\" class=\"data row1 col0\" >Target</td>\n",
       "      <td id=\"T_50454_row1_col1\" class=\"data row1 col1\" >label</td>\n",
       "    </tr>\n",
       "    <tr>\n",
       "      <th id=\"T_50454_level0_row2\" class=\"row_heading level0 row2\" >2</th>\n",
       "      <td id=\"T_50454_row2_col0\" class=\"data row2 col0\" >Target type</td>\n",
       "      <td id=\"T_50454_row2_col1\" class=\"data row2 col1\" >Binary</td>\n",
       "    </tr>\n",
       "    <tr>\n",
       "      <th id=\"T_50454_level0_row3\" class=\"row_heading level0 row3\" >3</th>\n",
       "      <td id=\"T_50454_row3_col0\" class=\"data row3 col0\" >Original data shape</td>\n",
       "      <td id=\"T_50454_row3_col1\" class=\"data row3 col1\" >(1707, 249)</td>\n",
       "    </tr>\n",
       "    <tr>\n",
       "      <th id=\"T_50454_level0_row4\" class=\"row_heading level0 row4\" >4</th>\n",
       "      <td id=\"T_50454_row4_col0\" class=\"data row4 col0\" >Transformed data shape</td>\n",
       "      <td id=\"T_50454_row4_col1\" class=\"data row4 col1\" >(1707, 249)</td>\n",
       "    </tr>\n",
       "    <tr>\n",
       "      <th id=\"T_50454_level0_row5\" class=\"row_heading level0 row5\" >5</th>\n",
       "      <td id=\"T_50454_row5_col0\" class=\"data row5 col0\" >Transformed train set shape</td>\n",
       "      <td id=\"T_50454_row5_col1\" class=\"data row5 col1\" >(1194, 249)</td>\n",
       "    </tr>\n",
       "    <tr>\n",
       "      <th id=\"T_50454_level0_row6\" class=\"row_heading level0 row6\" >6</th>\n",
       "      <td id=\"T_50454_row6_col0\" class=\"data row6 col0\" >Transformed test set shape</td>\n",
       "      <td id=\"T_50454_row6_col1\" class=\"data row6 col1\" >(513, 249)</td>\n",
       "    </tr>\n",
       "    <tr>\n",
       "      <th id=\"T_50454_level0_row7\" class=\"row_heading level0 row7\" >7</th>\n",
       "      <td id=\"T_50454_row7_col0\" class=\"data row7 col0\" >Numeric features</td>\n",
       "      <td id=\"T_50454_row7_col1\" class=\"data row7 col1\" >248</td>\n",
       "    </tr>\n",
       "    <tr>\n",
       "      <th id=\"T_50454_level0_row8\" class=\"row_heading level0 row8\" >8</th>\n",
       "      <td id=\"T_50454_row8_col0\" class=\"data row8 col0\" >Preprocess</td>\n",
       "      <td id=\"T_50454_row8_col1\" class=\"data row8 col1\" >True</td>\n",
       "    </tr>\n",
       "    <tr>\n",
       "      <th id=\"T_50454_level0_row9\" class=\"row_heading level0 row9\" >9</th>\n",
       "      <td id=\"T_50454_row9_col0\" class=\"data row9 col0\" >Imputation type</td>\n",
       "      <td id=\"T_50454_row9_col1\" class=\"data row9 col1\" >simple</td>\n",
       "    </tr>\n",
       "    <tr>\n",
       "      <th id=\"T_50454_level0_row10\" class=\"row_heading level0 row10\" >10</th>\n",
       "      <td id=\"T_50454_row10_col0\" class=\"data row10 col0\" >Numeric imputation</td>\n",
       "      <td id=\"T_50454_row10_col1\" class=\"data row10 col1\" >mean</td>\n",
       "    </tr>\n",
       "    <tr>\n",
       "      <th id=\"T_50454_level0_row11\" class=\"row_heading level0 row11\" >11</th>\n",
       "      <td id=\"T_50454_row11_col0\" class=\"data row11 col0\" >Categorical imputation</td>\n",
       "      <td id=\"T_50454_row11_col1\" class=\"data row11 col1\" >mode</td>\n",
       "    </tr>\n",
       "    <tr>\n",
       "      <th id=\"T_50454_level0_row12\" class=\"row_heading level0 row12\" >12</th>\n",
       "      <td id=\"T_50454_row12_col0\" class=\"data row12 col0\" >Fold Generator</td>\n",
       "      <td id=\"T_50454_row12_col1\" class=\"data row12 col1\" >StratifiedKFold</td>\n",
       "    </tr>\n",
       "    <tr>\n",
       "      <th id=\"T_50454_level0_row13\" class=\"row_heading level0 row13\" >13</th>\n",
       "      <td id=\"T_50454_row13_col0\" class=\"data row13 col0\" >Fold Number</td>\n",
       "      <td id=\"T_50454_row13_col1\" class=\"data row13 col1\" >10</td>\n",
       "    </tr>\n",
       "    <tr>\n",
       "      <th id=\"T_50454_level0_row14\" class=\"row_heading level0 row14\" >14</th>\n",
       "      <td id=\"T_50454_row14_col0\" class=\"data row14 col0\" >CPU Jobs</td>\n",
       "      <td id=\"T_50454_row14_col1\" class=\"data row14 col1\" >-1</td>\n",
       "    </tr>\n",
       "    <tr>\n",
       "      <th id=\"T_50454_level0_row15\" class=\"row_heading level0 row15\" >15</th>\n",
       "      <td id=\"T_50454_row15_col0\" class=\"data row15 col0\" >Use GPU</td>\n",
       "      <td id=\"T_50454_row15_col1\" class=\"data row15 col1\" >False</td>\n",
       "    </tr>\n",
       "    <tr>\n",
       "      <th id=\"T_50454_level0_row16\" class=\"row_heading level0 row16\" >16</th>\n",
       "      <td id=\"T_50454_row16_col0\" class=\"data row16 col0\" >Log Experiment</td>\n",
       "      <td id=\"T_50454_row16_col1\" class=\"data row16 col1\" >False</td>\n",
       "    </tr>\n",
       "    <tr>\n",
       "      <th id=\"T_50454_level0_row17\" class=\"row_heading level0 row17\" >17</th>\n",
       "      <td id=\"T_50454_row17_col0\" class=\"data row17 col0\" >Experiment Name</td>\n",
       "      <td id=\"T_50454_row17_col1\" class=\"data row17 col1\" >clf-default-name</td>\n",
       "    </tr>\n",
       "    <tr>\n",
       "      <th id=\"T_50454_level0_row18\" class=\"row_heading level0 row18\" >18</th>\n",
       "      <td id=\"T_50454_row18_col0\" class=\"data row18 col0\" >USI</td>\n",
       "      <td id=\"T_50454_row18_col1\" class=\"data row18 col1\" >5e5c</td>\n",
       "    </tr>\n",
       "  </tbody>\n",
       "</table>\n"
      ],
      "text/plain": [
       "<pandas.io.formats.style.Styler at 0x1f78da83d00>"
      ]
     },
     "metadata": {},
     "output_type": "display_data"
    },
    {
     "data": {
      "text/html": [],
      "text/plain": [
       "<IPython.core.display.HTML object>"
      ]
     },
     "metadata": {},
     "output_type": "display_data"
    },
    {
     "data": {
      "text/html": [
       "<style type=\"text/css\">\n",
       "#T_922bf_row5_col0, #T_922bf_row5_col1, #T_922bf_row5_col2, #T_922bf_row5_col3, #T_922bf_row5_col4, #T_922bf_row5_col5, #T_922bf_row5_col6 {\n",
       "  background: yellow;\n",
       "}\n",
       "</style>\n",
       "<table id=\"T_922bf\">\n",
       "  <thead>\n",
       "    <tr>\n",
       "      <th class=\"blank level0\" >&nbsp;</th>\n",
       "      <th id=\"T_922bf_level0_col0\" class=\"col_heading level0 col0\" >Accuracy</th>\n",
       "      <th id=\"T_922bf_level0_col1\" class=\"col_heading level0 col1\" >AUC</th>\n",
       "      <th id=\"T_922bf_level0_col2\" class=\"col_heading level0 col2\" >Recall</th>\n",
       "      <th id=\"T_922bf_level0_col3\" class=\"col_heading level0 col3\" >Prec.</th>\n",
       "      <th id=\"T_922bf_level0_col4\" class=\"col_heading level0 col4\" >F1</th>\n",
       "      <th id=\"T_922bf_level0_col5\" class=\"col_heading level0 col5\" >Kappa</th>\n",
       "      <th id=\"T_922bf_level0_col6\" class=\"col_heading level0 col6\" >MCC</th>\n",
       "    </tr>\n",
       "    <tr>\n",
       "      <th class=\"index_name level0\" >Fold</th>\n",
       "      <th class=\"blank col0\" >&nbsp;</th>\n",
       "      <th class=\"blank col1\" >&nbsp;</th>\n",
       "      <th class=\"blank col2\" >&nbsp;</th>\n",
       "      <th class=\"blank col3\" >&nbsp;</th>\n",
       "      <th class=\"blank col4\" >&nbsp;</th>\n",
       "      <th class=\"blank col5\" >&nbsp;</th>\n",
       "      <th class=\"blank col6\" >&nbsp;</th>\n",
       "    </tr>\n",
       "  </thead>\n",
       "  <tbody>\n",
       "    <tr>\n",
       "      <th id=\"T_922bf_level0_row0\" class=\"row_heading level0 row0\" >0</th>\n",
       "      <td id=\"T_922bf_row0_col0\" class=\"data row0 col0\" >0.6820</td>\n",
       "      <td id=\"T_922bf_row0_col1\" class=\"data row0 col1\" >0.7628</td>\n",
       "      <td id=\"T_922bf_row0_col2\" class=\"data row0 col2\" >0.3333</td>\n",
       "      <td id=\"T_922bf_row0_col3\" class=\"data row0 col3\" >0.6522</td>\n",
       "      <td id=\"T_922bf_row0_col4\" class=\"data row0 col4\" >0.4412</td>\n",
       "      <td id=\"T_922bf_row0_col5\" class=\"data row0 col5\" >0.2502</td>\n",
       "      <td id=\"T_922bf_row0_col6\" class=\"data row0 col6\" >0.2777</td>\n",
       "    </tr>\n",
       "    <tr>\n",
       "      <th id=\"T_922bf_level0_row1\" class=\"row_heading level0 row1\" >1</th>\n",
       "      <td id=\"T_922bf_row1_col0\" class=\"data row1 col0\" >0.6736</td>\n",
       "      <td id=\"T_922bf_row1_col1\" class=\"data row1 col1\" >0.6516</td>\n",
       "      <td id=\"T_922bf_row1_col2\" class=\"data row1 col2\" >0.3146</td>\n",
       "      <td id=\"T_922bf_row1_col3\" class=\"data row1 col3\" >0.6222</td>\n",
       "      <td id=\"T_922bf_row1_col4\" class=\"data row1 col4\" >0.4179</td>\n",
       "      <td id=\"T_922bf_row1_col5\" class=\"data row1 col5\" >0.2238</td>\n",
       "      <td id=\"T_922bf_row1_col6\" class=\"data row1 col6\" >0.2489</td>\n",
       "    </tr>\n",
       "    <tr>\n",
       "      <th id=\"T_922bf_level0_row2\" class=\"row_heading level0 row2\" >2</th>\n",
       "      <td id=\"T_922bf_row2_col0\" class=\"data row2 col0\" >0.6527</td>\n",
       "      <td id=\"T_922bf_row2_col1\" class=\"data row2 col1\" >0.7091</td>\n",
       "      <td id=\"T_922bf_row2_col2\" class=\"data row2 col2\" >0.4045</td>\n",
       "      <td id=\"T_922bf_row2_col3\" class=\"data row2 col3\" >0.5455</td>\n",
       "      <td id=\"T_922bf_row2_col4\" class=\"data row2 col4\" >0.4645</td>\n",
       "      <td id=\"T_922bf_row2_col5\" class=\"data row2 col5\" >0.2158</td>\n",
       "      <td id=\"T_922bf_row2_col6\" class=\"data row2 col6\" >0.2211</td>\n",
       "    </tr>\n",
       "    <tr>\n",
       "      <th id=\"T_922bf_level0_row3\" class=\"row_heading level0 row3\" >3</th>\n",
       "      <td id=\"T_922bf_row3_col0\" class=\"data row3 col0\" >0.6611</td>\n",
       "      <td id=\"T_922bf_row3_col1\" class=\"data row3 col1\" >0.6631</td>\n",
       "      <td id=\"T_922bf_row3_col2\" class=\"data row3 col2\" >0.3596</td>\n",
       "      <td id=\"T_922bf_row3_col3\" class=\"data row3 col3\" >0.5714</td>\n",
       "      <td id=\"T_922bf_row3_col4\" class=\"data row3 col4\" >0.4414</td>\n",
       "      <td id=\"T_922bf_row3_col5\" class=\"data row3 col5\" >0.2158</td>\n",
       "      <td id=\"T_922bf_row3_col6\" class=\"data row3 col6\" >0.2278</td>\n",
       "    </tr>\n",
       "    <tr>\n",
       "      <th id=\"T_922bf_level0_row4\" class=\"row_heading level0 row4\" >4</th>\n",
       "      <td id=\"T_922bf_row4_col0\" class=\"data row4 col0\" >0.6765</td>\n",
       "      <td id=\"T_922bf_row4_col1\" class=\"data row4 col1\" >0.7032</td>\n",
       "      <td id=\"T_922bf_row4_col2\" class=\"data row4 col2\" >0.3933</td>\n",
       "      <td id=\"T_922bf_row4_col3\" class=\"data row4 col3\" >0.6034</td>\n",
       "      <td id=\"T_922bf_row4_col4\" class=\"data row4 col4\" >0.4762</td>\n",
       "      <td id=\"T_922bf_row4_col5\" class=\"data row4 col5\" >0.2569</td>\n",
       "      <td id=\"T_922bf_row4_col6\" class=\"data row4 col6\" >0.2692</td>\n",
       "    </tr>\n",
       "    <tr>\n",
       "      <th id=\"T_922bf_level0_row5\" class=\"row_heading level0 row5\" >Mean</th>\n",
       "      <td id=\"T_922bf_row5_col0\" class=\"data row5 col0\" >0.6692</td>\n",
       "      <td id=\"T_922bf_row5_col1\" class=\"data row5 col1\" >0.6980</td>\n",
       "      <td id=\"T_922bf_row5_col2\" class=\"data row5 col2\" >0.3610</td>\n",
       "      <td id=\"T_922bf_row5_col3\" class=\"data row5 col3\" >0.5989</td>\n",
       "      <td id=\"T_922bf_row5_col4\" class=\"data row5 col4\" >0.4482</td>\n",
       "      <td id=\"T_922bf_row5_col5\" class=\"data row5 col5\" >0.2325</td>\n",
       "      <td id=\"T_922bf_row5_col6\" class=\"data row5 col6\" >0.2489</td>\n",
       "    </tr>\n",
       "    <tr>\n",
       "      <th id=\"T_922bf_level0_row6\" class=\"row_heading level0 row6\" >Std</th>\n",
       "      <td id=\"T_922bf_row6_col0\" class=\"data row6 col0\" >0.0107</td>\n",
       "      <td id=\"T_922bf_row6_col1\" class=\"data row6 col1\" >0.0393</td>\n",
       "      <td id=\"T_922bf_row6_col2\" class=\"data row6 col2\" >0.0342</td>\n",
       "      <td id=\"T_922bf_row6_col3\" class=\"data row6 col3\" >0.0375</td>\n",
       "      <td id=\"T_922bf_row6_col4\" class=\"data row6 col4\" >0.0203</td>\n",
       "      <td id=\"T_922bf_row6_col5\" class=\"data row6 col5\" >0.0176</td>\n",
       "      <td id=\"T_922bf_row6_col6\" class=\"data row6 col6\" >0.0222</td>\n",
       "    </tr>\n",
       "  </tbody>\n",
       "</table>\n"
      ],
      "text/plain": [
       "<pandas.io.formats.style.Styler at 0x1f78ad3c9d0>"
      ]
     },
     "metadata": {},
     "output_type": "display_data"
    },
    {
     "data": {
      "text/html": [],
      "text/plain": [
       "<IPython.core.display.HTML object>"
      ]
     },
     "metadata": {},
     "output_type": "display_data"
    },
    {
     "data": {
      "text/html": [],
      "text/plain": [
       "<IPython.core.display.HTML object>"
      ]
     },
     "metadata": {},
     "output_type": "display_data"
    },
    {
     "data": {
      "text/html": [
       "<style type=\"text/css\">\n",
       "#T_d3bcc_row10_col0, #T_d3bcc_row10_col1, #T_d3bcc_row10_col2, #T_d3bcc_row10_col3, #T_d3bcc_row10_col4, #T_d3bcc_row10_col5, #T_d3bcc_row10_col6 {\n",
       "  background: yellow;\n",
       "}\n",
       "</style>\n",
       "<table id=\"T_d3bcc\">\n",
       "  <thead>\n",
       "    <tr>\n",
       "      <th class=\"blank level0\" >&nbsp;</th>\n",
       "      <th id=\"T_d3bcc_level0_col0\" class=\"col_heading level0 col0\" >Accuracy</th>\n",
       "      <th id=\"T_d3bcc_level0_col1\" class=\"col_heading level0 col1\" >AUC</th>\n",
       "      <th id=\"T_d3bcc_level0_col2\" class=\"col_heading level0 col2\" >Recall</th>\n",
       "      <th id=\"T_d3bcc_level0_col3\" class=\"col_heading level0 col3\" >Prec.</th>\n",
       "      <th id=\"T_d3bcc_level0_col4\" class=\"col_heading level0 col4\" >F1</th>\n",
       "      <th id=\"T_d3bcc_level0_col5\" class=\"col_heading level0 col5\" >Kappa</th>\n",
       "      <th id=\"T_d3bcc_level0_col6\" class=\"col_heading level0 col6\" >MCC</th>\n",
       "    </tr>\n",
       "    <tr>\n",
       "      <th class=\"index_name level0\" >Fold</th>\n",
       "      <th class=\"blank col0\" >&nbsp;</th>\n",
       "      <th class=\"blank col1\" >&nbsp;</th>\n",
       "      <th class=\"blank col2\" >&nbsp;</th>\n",
       "      <th class=\"blank col3\" >&nbsp;</th>\n",
       "      <th class=\"blank col4\" >&nbsp;</th>\n",
       "      <th class=\"blank col5\" >&nbsp;</th>\n",
       "      <th class=\"blank col6\" >&nbsp;</th>\n",
       "    </tr>\n",
       "  </thead>\n",
       "  <tbody>\n",
       "    <tr>\n",
       "      <th id=\"T_d3bcc_level0_row0\" class=\"row_heading level0 row0\" >0</th>\n",
       "      <td id=\"T_d3bcc_row0_col0\" class=\"data row0 col0\" >0.6250</td>\n",
       "      <td id=\"T_d3bcc_row0_col1\" class=\"data row0 col1\" >0.5000</td>\n",
       "      <td id=\"T_d3bcc_row0_col2\" class=\"data row0 col2\" >0.0000</td>\n",
       "      <td id=\"T_d3bcc_row0_col3\" class=\"data row0 col3\" >0.0000</td>\n",
       "      <td id=\"T_d3bcc_row0_col4\" class=\"data row0 col4\" >0.0000</td>\n",
       "      <td id=\"T_d3bcc_row0_col5\" class=\"data row0 col5\" >0.0000</td>\n",
       "      <td id=\"T_d3bcc_row0_col6\" class=\"data row0 col6\" >0.0000</td>\n",
       "    </tr>\n",
       "    <tr>\n",
       "      <th id=\"T_d3bcc_level0_row1\" class=\"row_heading level0 row1\" >1</th>\n",
       "      <td id=\"T_d3bcc_row1_col0\" class=\"data row1 col0\" >0.6250</td>\n",
       "      <td id=\"T_d3bcc_row1_col1\" class=\"data row1 col1\" >0.5000</td>\n",
       "      <td id=\"T_d3bcc_row1_col2\" class=\"data row1 col2\" >0.0000</td>\n",
       "      <td id=\"T_d3bcc_row1_col3\" class=\"data row1 col3\" >0.0000</td>\n",
       "      <td id=\"T_d3bcc_row1_col4\" class=\"data row1 col4\" >0.0000</td>\n",
       "      <td id=\"T_d3bcc_row1_col5\" class=\"data row1 col5\" >0.0000</td>\n",
       "      <td id=\"T_d3bcc_row1_col6\" class=\"data row1 col6\" >0.0000</td>\n",
       "    </tr>\n",
       "    <tr>\n",
       "      <th id=\"T_d3bcc_level0_row2\" class=\"row_heading level0 row2\" >2</th>\n",
       "      <td id=\"T_d3bcc_row2_col0\" class=\"data row2 col0\" >0.6250</td>\n",
       "      <td id=\"T_d3bcc_row2_col1\" class=\"data row2 col1\" >0.5000</td>\n",
       "      <td id=\"T_d3bcc_row2_col2\" class=\"data row2 col2\" >0.0000</td>\n",
       "      <td id=\"T_d3bcc_row2_col3\" class=\"data row2 col3\" >0.0000</td>\n",
       "      <td id=\"T_d3bcc_row2_col4\" class=\"data row2 col4\" >0.0000</td>\n",
       "      <td id=\"T_d3bcc_row2_col5\" class=\"data row2 col5\" >0.0000</td>\n",
       "      <td id=\"T_d3bcc_row2_col6\" class=\"data row2 col6\" >0.0000</td>\n",
       "    </tr>\n",
       "    <tr>\n",
       "      <th id=\"T_d3bcc_level0_row3\" class=\"row_heading level0 row3\" >3</th>\n",
       "      <td id=\"T_d3bcc_row3_col0\" class=\"data row3 col0\" >0.6250</td>\n",
       "      <td id=\"T_d3bcc_row3_col1\" class=\"data row3 col1\" >0.5000</td>\n",
       "      <td id=\"T_d3bcc_row3_col2\" class=\"data row3 col2\" >0.0000</td>\n",
       "      <td id=\"T_d3bcc_row3_col3\" class=\"data row3 col3\" >0.0000</td>\n",
       "      <td id=\"T_d3bcc_row3_col4\" class=\"data row3 col4\" >0.0000</td>\n",
       "      <td id=\"T_d3bcc_row3_col5\" class=\"data row3 col5\" >0.0000</td>\n",
       "      <td id=\"T_d3bcc_row3_col6\" class=\"data row3 col6\" >0.0000</td>\n",
       "    </tr>\n",
       "    <tr>\n",
       "      <th id=\"T_d3bcc_level0_row4\" class=\"row_heading level0 row4\" >4</th>\n",
       "      <td id=\"T_d3bcc_row4_col0\" class=\"data row4 col0\" >0.6218</td>\n",
       "      <td id=\"T_d3bcc_row4_col1\" class=\"data row4 col1\" >0.5000</td>\n",
       "      <td id=\"T_d3bcc_row4_col2\" class=\"data row4 col2\" >0.0000</td>\n",
       "      <td id=\"T_d3bcc_row4_col3\" class=\"data row4 col3\" >0.0000</td>\n",
       "      <td id=\"T_d3bcc_row4_col4\" class=\"data row4 col4\" >0.0000</td>\n",
       "      <td id=\"T_d3bcc_row4_col5\" class=\"data row4 col5\" >0.0000</td>\n",
       "      <td id=\"T_d3bcc_row4_col6\" class=\"data row4 col6\" >0.0000</td>\n",
       "    </tr>\n",
       "    <tr>\n",
       "      <th id=\"T_d3bcc_level0_row5\" class=\"row_heading level0 row5\" >5</th>\n",
       "      <td id=\"T_d3bcc_row5_col0\" class=\"data row5 col0\" >0.6218</td>\n",
       "      <td id=\"T_d3bcc_row5_col1\" class=\"data row5 col1\" >0.5000</td>\n",
       "      <td id=\"T_d3bcc_row5_col2\" class=\"data row5 col2\" >0.0000</td>\n",
       "      <td id=\"T_d3bcc_row5_col3\" class=\"data row5 col3\" >0.0000</td>\n",
       "      <td id=\"T_d3bcc_row5_col4\" class=\"data row5 col4\" >0.0000</td>\n",
       "      <td id=\"T_d3bcc_row5_col5\" class=\"data row5 col5\" >0.0000</td>\n",
       "      <td id=\"T_d3bcc_row5_col6\" class=\"data row5 col6\" >0.0000</td>\n",
       "    </tr>\n",
       "    <tr>\n",
       "      <th id=\"T_d3bcc_level0_row6\" class=\"row_heading level0 row6\" >6</th>\n",
       "      <td id=\"T_d3bcc_row6_col0\" class=\"data row6 col0\" >0.6303</td>\n",
       "      <td id=\"T_d3bcc_row6_col1\" class=\"data row6 col1\" >0.5000</td>\n",
       "      <td id=\"T_d3bcc_row6_col2\" class=\"data row6 col2\" >0.0000</td>\n",
       "      <td id=\"T_d3bcc_row6_col3\" class=\"data row6 col3\" >0.0000</td>\n",
       "      <td id=\"T_d3bcc_row6_col4\" class=\"data row6 col4\" >0.0000</td>\n",
       "      <td id=\"T_d3bcc_row6_col5\" class=\"data row6 col5\" >0.0000</td>\n",
       "      <td id=\"T_d3bcc_row6_col6\" class=\"data row6 col6\" >0.0000</td>\n",
       "    </tr>\n",
       "    <tr>\n",
       "      <th id=\"T_d3bcc_level0_row7\" class=\"row_heading level0 row7\" >7</th>\n",
       "      <td id=\"T_d3bcc_row7_col0\" class=\"data row7 col0\" >0.6303</td>\n",
       "      <td id=\"T_d3bcc_row7_col1\" class=\"data row7 col1\" >0.5000</td>\n",
       "      <td id=\"T_d3bcc_row7_col2\" class=\"data row7 col2\" >0.0000</td>\n",
       "      <td id=\"T_d3bcc_row7_col3\" class=\"data row7 col3\" >0.0000</td>\n",
       "      <td id=\"T_d3bcc_row7_col4\" class=\"data row7 col4\" >0.0000</td>\n",
       "      <td id=\"T_d3bcc_row7_col5\" class=\"data row7 col5\" >0.0000</td>\n",
       "      <td id=\"T_d3bcc_row7_col6\" class=\"data row7 col6\" >0.0000</td>\n",
       "    </tr>\n",
       "    <tr>\n",
       "      <th id=\"T_d3bcc_level0_row8\" class=\"row_heading level0 row8\" >8</th>\n",
       "      <td id=\"T_d3bcc_row8_col0\" class=\"data row8 col0\" >0.6303</td>\n",
       "      <td id=\"T_d3bcc_row8_col1\" class=\"data row8 col1\" >0.5000</td>\n",
       "      <td id=\"T_d3bcc_row8_col2\" class=\"data row8 col2\" >0.0000</td>\n",
       "      <td id=\"T_d3bcc_row8_col3\" class=\"data row8 col3\" >0.0000</td>\n",
       "      <td id=\"T_d3bcc_row8_col4\" class=\"data row8 col4\" >0.0000</td>\n",
       "      <td id=\"T_d3bcc_row8_col5\" class=\"data row8 col5\" >0.0000</td>\n",
       "      <td id=\"T_d3bcc_row8_col6\" class=\"data row8 col6\" >0.0000</td>\n",
       "    </tr>\n",
       "    <tr>\n",
       "      <th id=\"T_d3bcc_level0_row9\" class=\"row_heading level0 row9\" >9</th>\n",
       "      <td id=\"T_d3bcc_row9_col0\" class=\"data row9 col0\" >0.6303</td>\n",
       "      <td id=\"T_d3bcc_row9_col1\" class=\"data row9 col1\" >0.5000</td>\n",
       "      <td id=\"T_d3bcc_row9_col2\" class=\"data row9 col2\" >0.0000</td>\n",
       "      <td id=\"T_d3bcc_row9_col3\" class=\"data row9 col3\" >0.0000</td>\n",
       "      <td id=\"T_d3bcc_row9_col4\" class=\"data row9 col4\" >0.0000</td>\n",
       "      <td id=\"T_d3bcc_row9_col5\" class=\"data row9 col5\" >0.0000</td>\n",
       "      <td id=\"T_d3bcc_row9_col6\" class=\"data row9 col6\" >0.0000</td>\n",
       "    </tr>\n",
       "    <tr>\n",
       "      <th id=\"T_d3bcc_level0_row10\" class=\"row_heading level0 row10\" >Mean</th>\n",
       "      <td id=\"T_d3bcc_row10_col0\" class=\"data row10 col0\" >0.6265</td>\n",
       "      <td id=\"T_d3bcc_row10_col1\" class=\"data row10 col1\" >0.5000</td>\n",
       "      <td id=\"T_d3bcc_row10_col2\" class=\"data row10 col2\" >0.0000</td>\n",
       "      <td id=\"T_d3bcc_row10_col3\" class=\"data row10 col3\" >0.0000</td>\n",
       "      <td id=\"T_d3bcc_row10_col4\" class=\"data row10 col4\" >0.0000</td>\n",
       "      <td id=\"T_d3bcc_row10_col5\" class=\"data row10 col5\" >0.0000</td>\n",
       "      <td id=\"T_d3bcc_row10_col6\" class=\"data row10 col6\" >0.0000</td>\n",
       "    </tr>\n",
       "    <tr>\n",
       "      <th id=\"T_d3bcc_level0_row11\" class=\"row_heading level0 row11\" >Std</th>\n",
       "      <td id=\"T_d3bcc_row11_col0\" class=\"data row11 col0\" >0.0033</td>\n",
       "      <td id=\"T_d3bcc_row11_col1\" class=\"data row11 col1\" >0.0000</td>\n",
       "      <td id=\"T_d3bcc_row11_col2\" class=\"data row11 col2\" >0.0000</td>\n",
       "      <td id=\"T_d3bcc_row11_col3\" class=\"data row11 col3\" >0.0000</td>\n",
       "      <td id=\"T_d3bcc_row11_col4\" class=\"data row11 col4\" >0.0000</td>\n",
       "      <td id=\"T_d3bcc_row11_col5\" class=\"data row11 col5\" >0.0000</td>\n",
       "      <td id=\"T_d3bcc_row11_col6\" class=\"data row11 col6\" >0.0000</td>\n",
       "    </tr>\n",
       "  </tbody>\n",
       "</table>\n"
      ],
      "text/plain": [
       "<pandas.io.formats.style.Styler at 0x1f783f96190>"
      ]
     },
     "metadata": {},
     "output_type": "display_data"
    },
    {
     "data": {
      "text/html": [],
      "text/plain": [
       "<IPython.core.display.HTML object>"
      ]
     },
     "metadata": {},
     "output_type": "display_data"
    },
    {
     "name": "stdout",
     "output_type": "stream",
     "text": [
      "Fitting 10 folds for each of 10 candidates, totalling 100 fits\n",
      "Original model was better than the tuned model, hence it will be returned. NOTE: The display metrics are for the tuned model (not the original one).\n"
     ]
    },
    {
     "data": {
      "text/html": [
       "<style type=\"text/css\">\n",
       "</style>\n",
       "<table id=\"T_9293f\">\n",
       "  <thead>\n",
       "    <tr>\n",
       "      <th class=\"blank level0\" >&nbsp;</th>\n",
       "      <th id=\"T_9293f_level0_col0\" class=\"col_heading level0 col0\" >Model</th>\n",
       "      <th id=\"T_9293f_level0_col1\" class=\"col_heading level0 col1\" >Accuracy</th>\n",
       "      <th id=\"T_9293f_level0_col2\" class=\"col_heading level0 col2\" >AUC</th>\n",
       "      <th id=\"T_9293f_level0_col3\" class=\"col_heading level0 col3\" >Recall</th>\n",
       "      <th id=\"T_9293f_level0_col4\" class=\"col_heading level0 col4\" >Prec.</th>\n",
       "      <th id=\"T_9293f_level0_col5\" class=\"col_heading level0 col5\" >F1</th>\n",
       "      <th id=\"T_9293f_level0_col6\" class=\"col_heading level0 col6\" >Kappa</th>\n",
       "      <th id=\"T_9293f_level0_col7\" class=\"col_heading level0 col7\" >MCC</th>\n",
       "    </tr>\n",
       "  </thead>\n",
       "  <tbody>\n",
       "    <tr>\n",
       "      <th id=\"T_9293f_level0_row0\" class=\"row_heading level0 row0\" >0</th>\n",
       "      <td id=\"T_9293f_row0_col0\" class=\"data row0 col0\" >Extra Trees Classifier</td>\n",
       "      <td id=\"T_9293f_row0_col1\" class=\"data row0 col1\" >0.6920</td>\n",
       "      <td id=\"T_9293f_row0_col2\" class=\"data row0 col2\" >0.7118</td>\n",
       "      <td id=\"T_9293f_row0_col3\" class=\"data row0 col3\" >0.3854</td>\n",
       "      <td id=\"T_9293f_row0_col4\" class=\"data row0 col4\" >0.6491</td>\n",
       "      <td id=\"T_9293f_row0_col5\" class=\"data row0 col5\" >0.4837</td>\n",
       "      <td id=\"T_9293f_row0_col6\" class=\"data row0 col6\" >0.2840</td>\n",
       "      <td id=\"T_9293f_row0_col7\" class=\"data row0 col7\" >0.3036</td>\n",
       "    </tr>\n",
       "  </tbody>\n",
       "</table>\n"
      ],
      "text/plain": [
       "<pandas.io.formats.style.Styler at 0x1f7888d51c0>"
      ]
     },
     "metadata": {},
     "output_type": "display_data"
    },
    {
     "data": {
      "application/vnd.jupyter.widget-view+json": {
       "model_id": "12aaabcc337945449f3e27317a2f9ca8",
       "version_major": 2,
       "version_minor": 0
      },
      "text/plain": [
       "interactive(children=(ToggleButtons(description='Plot Type:', icons=('',), options=(('Pipeline Plot', 'pipelin…"
      ]
     },
     "metadata": {},
     "output_type": "display_data"
    }
   ],
   "source": [
    "# PyCaret 설정\n",
    "exp_clf = setup(data = df, target = 'label', session_id=123)\n",
    "\n",
    "# RandomForest 모델 생성\n",
    "et_model = create_model('et', fold = 5)\n",
    "\n",
    "# 모델 학습\n",
    "et_tuned = tune_model(et_model, optimize = 'Accuracy')\n",
    "\n",
    "# 검증 세트를 이용한 예측\n",
    "predictions = predict_model(et_tuned)\n",
    "\n",
    "# 모델의 성능 평가\n",
    "evaluate_model(et_tuned)"
   ]
  },
  {
   "cell_type": "code",
   "execution_count": 36,
   "metadata": {},
   "outputs": [
    {
     "name": "stdout",
     "output_type": "stream",
     "text": [
      "Accuracy: 0.6842\n",
      "\n",
      "Classification Report:\n",
      "              precision    recall  f1-score   support\n",
      "\n",
      "           0       0.72      0.81      0.76       107\n",
      "           1       0.60      0.47      0.53        64\n",
      "\n",
      "    accuracy                           0.68       171\n",
      "   macro avg       0.66      0.64      0.64       171\n",
      "weighted avg       0.67      0.68      0.67       171\n",
      "\n"
     ]
    },
    {
     "data": {
      "image/png": "[encoded data removed]",
      "text/plain": [
       "<Figure size 800x550 with 2 Axes>"
      ]
     },
     "metadata": {},
     "output_type": "display_data"
    }
   ],
   "source": [
    "from sklearn.ensemble import ExtraTreesClassifier\n",
    "from sklearn.metrics import accuracy_score, classification_report, confusion_matrix\n",
    "import matplotlib.pyplot as plt\n",
    "import seaborn as sns\n",
    "\n",
    "# ExtraTreesClassifier 모델 구성\n",
    "et_classifier = ExtraTreesClassifier(n_estimators=100, random_state=123)\n",
    "\n",
    "# 모델 학습\n",
    "et_classifier.fit(X_train, y_train)\n",
    "\n",
    "# 검증 세트를 이용해 예측을 수행합니다.\n",
    "y_pred = et_classifier.predict(X_val)\n",
    "\n",
    "# 정확도를 계산하고 출력합니다.\n",
    "accuracy = accuracy_score(y_val, y_pred)\n",
    "print(f\"Accuracy: {accuracy:.4f}\")\n",
    "\n",
    "# 분류 리포트를 생성하고 출력합니다.\n",
    "class_report = classification_report(y_val, y_pred)\n",
    "print(\"\\nClassification Report:\")\n",
    "print(class_report)\n",
    "\n",
    "# 혼동 행렬을 생성하고 시각화합니다.\n",
    "conf_matrix = confusion_matrix(y_val, y_pred)\n",
    "sns.heatmap(conf_matrix, annot=True, fmt='d', cmap=\"Blues\")\n",
    "plt.xlabel('Predicted Label')\n",
    "plt.ylabel('True Label')\n",
    "plt.title('Confusion Matrix for ExtraTrees Classifier')\n",
    "plt.show()"
   ]
  },
  {
   "cell_type": "code",
   "execution_count": 37,
   "metadata": {},
   "outputs": [
    {
     "name": "stdout",
     "output_type": "stream",
     "text": [
      "Training Accuracy: 0.9993\n",
      "Validation Accuracy: 0.6842\n",
      "The model is overfitting.\n"
     ]
    }
   ],
   "source": [
    "# 훈련 세트에 대한 예측을 수행합니다.\n",
    "y_train_pred = et_classifier.predict(X_train)\n",
    "\n",
    "# 훈련 세트의 정확도를 계산하고 출력합니다.\n",
    "train_accuracy = accuracy_score(y_train, y_train_pred)\n",
    "print(f\"Training Accuracy: {train_accuracy:.4f}\")\n",
    "\n",
    "# 검증 세트를 이용해 예측을 수행합니다.\n",
    "y_pred = et_classifier.predict(X_val)\n",
    "\n",
    "# 검증 세트의 정확도를 계산하고 출력합니다.\n",
    "val_accuracy = accuracy_score(y_val, y_pred)\n",
    "print(f\"Validation Accuracy: {val_accuracy:.4f}\")\n",
    "\n",
    "# 과적합 확인\n",
    "if train_accuracy > val_accuracy:\n",
    "    print('The model is overfitting.')\n",
    "else:\n",
    "    print('The model is not overfitting.')"
   ]
  },
  {
   "cell_type": "markdown",
   "metadata": {},
   "source": [
    "### **PyAudio Setup**"
   ]
  },
  {
   "cell_type": "code",
   "execution_count": 38,
   "metadata": {},
   "outputs": [],
   "source": [
    "import pyaudio"
   ]
  },
  {
   "cell_type": "code",
   "execution_count": 39,
   "metadata": {},
   "outputs": [],
   "source": [
    "FORMAT = pyaudio.paInt16\n",
    "CHANNELS = 1\n",
    "SAMPLE_RATE = 16000\n",
    "CHUNK = int(SAMPLE_RATE / 10)\n",
    "\n",
    "audio = pyaudio.PyAudio()"
   ]
  },
  {
   "cell_type": "code",
   "execution_count": 40,
   "metadata": {},
   "outputs": [],
   "source": [
    "def int2float(sound):\n",
    "    abs_max = np.abs(sound).max()\n",
    "    sound = sound.astype('float32')\n",
    "    if abs_max > 0:\n",
    "        sound *= 1/32768\n",
    "    sound = sound.squeeze()  # depends on the use case\n",
    "    return sound"
   ]
  },
  {
   "cell_type": "code",
   "execution_count": 41,
   "metadata": {},
   "outputs": [],
   "source": [
    "import librosa\n",
    "\n",
    "continue_recording = True\n",
    "\n",
    "# def stop():\n",
    "#     input(\"Press Enter to stop the recording:\")\n",
    "#     global continue_recording\n",
    "#     continue_recording = False\n",
    "\n",
    "def start_recording():\n",
    "\n",
    "    stream = audio.open(format=FORMAT,\n",
    "                    channels=CHANNELS,\n",
    "                    rate=SAMPLE_RATE,\n",
    "                    input=True,\n",
    "                    frames_per_buffer=CHUNK)\n",
    "\n",
    "    data = []\n",
    "    \n",
    "    global continue_recording\n",
    "    continue_recording = True\n",
    "\n",
    "    while continue_recording:\n",
    "    \n",
    "        audio_chunk = stream.read(CHUNK)\n",
    "        data.append(audio_chunk)\n",
    "\n",
    "        audio_int16 = np.frombuffer(audio_chunk, np.int16)\n",
    "        audio_float32 = int2float(audio_int16)\n",
    "\n",
    "        # Convert the audio to a suitable format for YAMnet\n",
    "        waveform = np.frombuffer(audio_chunk, dtype=np.int16) / 32768.0\n",
    "        waveform = waveform.astype(np.float32)\n",
    "        \n",
    "        # Extract Log Mel Spectrogram features\n",
    "        spectrogram_features_list = []\n",
    "        predictions = []\n",
    "\n",
    "        n_fft_value = min(2048, len(waveform))\n",
    "\n",
    "        spectrogram_features = librosa.feature.melspectrogram(y=waveform, sr=SAMPLE_RATE, n_fft=n_fft_value, n_mels=248)\n",
    "        spectrogram_features = librosa.power_to_db(spectrogram_features, ref=np.max)\n",
    "        spectrogram_features_list.append(spectrogram_features)\n",
    "        spectrogram_aggregated = np.mean(spectrogram_features, axis=1).reshape(1, -1) \n",
    "\n",
    "        # Ensure the feature count is correct\n",
    "        if spectrogram_aggregated.shape[1] != scaler.n_features_in_:\n",
    "            raise ValueError(f\"Incorrect number of features. Expected {scaler.n_features_in_}, got {spectrogram_aggregated.shape[1]}\")\n",
    "\n",
    "        # Scale features\n",
    "        spectrogram_scaled = scaler.transform(spectrogram_aggregated)\n",
    "\n",
    "        # Inside your loop, after SVC prediction\n",
    "        fall_detection_prediction = et_classifier.predict(spectrogram_scaled)\n",
    "        predictions.append(fall_detection_prediction)\n",
    "\n",
    "        if fall_detection_prediction == 1:\n",
    "            print(\"Fall Detected\")\n",
    "            break"
   ]
  },
  {
   "cell_type": "code",
   "execution_count": 42,
   "metadata": {},
   "outputs": [
    {
     "ename": "KeyboardInterrupt",
     "evalue": "",
     "output_type": "error",
     "traceback": [
      "\u001b[1;31m---------------------------------------------------------------------------\u001b[0m",
      "\u001b[1;31mKeyboardInterrupt\u001b[0m                         Traceback (most recent call last)",
      "Cell \u001b[1;32mIn[42], line 1\u001b[0m\n\u001b[1;32m----> 1\u001b[0m \u001b[43mstart_recording\u001b[49m\u001b[43m(\u001b[49m\u001b[43m)\u001b[49m\n",
      "Cell \u001b[1;32mIn[41], line 25\u001b[0m, in \u001b[0;36mstart_recording\u001b[1;34m()\u001b[0m\n\u001b[0;32m     21\u001b[0m continue_recording \u001b[38;5;241m=\u001b[39m \u001b[38;5;28;01mTrue\u001b[39;00m\n\u001b[0;32m     23\u001b[0m \u001b[38;5;28;01mwhile\u001b[39;00m continue_recording:\n\u001b[1;32m---> 25\u001b[0m     audio_chunk \u001b[38;5;241m=\u001b[39m \u001b[43mstream\u001b[49m\u001b[38;5;241;43m.\u001b[39;49m\u001b[43mread\u001b[49m\u001b[43m(\u001b[49m\u001b[43mCHUNK\u001b[49m\u001b[43m)\u001b[49m\n\u001b[0;32m     26\u001b[0m     data\u001b[38;5;241m.\u001b[39mappend(audio_chunk)\n\u001b[0;32m     28\u001b[0m     audio_int16 \u001b[38;5;241m=\u001b[39m np\u001b[38;5;241m.\u001b[39mfrombuffer(audio_chunk, np\u001b[38;5;241m.\u001b[39mint16)\n",
      "File \u001b[1;32mc:\\Users\\wonha\\AppData\\Local\\Programs\\Python\\Python39\\lib\\site-packages\\pyaudio\\__init__.py:570\u001b[0m, in \u001b[0;36mPyAudio.Stream.read\u001b[1;34m(self, num_frames, exception_on_overflow)\u001b[0m\n\u001b[0;32m    567\u001b[0m \u001b[38;5;28;01mif\u001b[39;00m \u001b[38;5;129;01mnot\u001b[39;00m \u001b[38;5;28mself\u001b[39m\u001b[38;5;241m.\u001b[39m_is_input:\n\u001b[0;32m    568\u001b[0m     \u001b[38;5;28;01mraise\u001b[39;00m \u001b[38;5;167;01mIOError\u001b[39;00m(\u001b[38;5;124m\"\u001b[39m\u001b[38;5;124mNot input stream\u001b[39m\u001b[38;5;124m\"\u001b[39m,\n\u001b[0;32m    569\u001b[0m                   paCanNotReadFromAnOutputOnlyStream)\n\u001b[1;32m--> 570\u001b[0m \u001b[38;5;28;01mreturn\u001b[39;00m \u001b[43mpa\u001b[49m\u001b[38;5;241;43m.\u001b[39;49m\u001b[43mread_stream\u001b[49m\u001b[43m(\u001b[49m\u001b[38;5;28;43mself\u001b[39;49m\u001b[38;5;241;43m.\u001b[39;49m\u001b[43m_stream\u001b[49m\u001b[43m,\u001b[49m\u001b[43m \u001b[49m\u001b[43mnum_frames\u001b[49m\u001b[43m,\u001b[49m\n\u001b[0;32m    571\u001b[0m \u001b[43m                      \u001b[49m\u001b[43mexception_on_overflow\u001b[49m\u001b[43m)\u001b[49m\n",
      "\u001b[1;31mKeyboardInterrupt\u001b[0m: "
     ]
    }
   ],
   "source": [
    "start_recording()"
   ]
  },
  {
   "cell_type": "code",
   "execution_count": null,
   "metadata": {},
   "outputs": [],
   "source": []
  }
 ],
 "metadata": {
  "kernelspec": {
   "display_name": "Python 3",
   "language": "python",
   "name": "python3"
  },
  "language_info": {
   "codemirror_mode": {
    "name": "ipython",
    "version": 3
   },
   "file_extension": ".py",
   "mimetype": "text/x-python",
   "name": "python",
   "nbconvert_exporter": "python",
   "pygments_lexer": "ipython3",
   "version": "3.9.13"
  }
 },
 "nbformat": 4,
 "nbformat_minor": 2
}
