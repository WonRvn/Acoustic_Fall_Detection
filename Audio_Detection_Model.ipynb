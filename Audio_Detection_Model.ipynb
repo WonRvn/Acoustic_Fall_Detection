{
 "cells": [
  {
   "cell_type": "code",
   "execution_count": 1,
   "metadata": {},
   "outputs": [],
   "source": [
    "import pandas as pd\n",
    "import numpy as np"
   ]
  },
  {
   "cell_type": "code",
   "execution_count": 2,
   "metadata": {},
   "outputs": [],
   "source": [
    "df = pd.read_csv('final_dataset.csv')"
   ]
  },
  {
   "cell_type": "code",
   "execution_count": 3,
   "metadata": {},
   "outputs": [],
   "source": [
    "import pandas as pd\n",
    "from sklearn.model_selection import train_test_split\n",
    "from sklearn.preprocessing import StandardScaler"
   ]
  },
  {
   "cell_type": "code",
   "execution_count": 4,
   "metadata": {},
   "outputs": [],
   "source": [
    "scaler = StandardScaler()"
   ]
  },
  {
   "cell_type": "code",
   "execution_count": 5,
   "metadata": {},
   "outputs": [
    {
     "name": "stdout",
     "output_type": "stream",
     "text": [
      "Train set: 3810 samples\n",
      "Validation set: 476 samples\n",
      "Test set: 477 samples\n",
      "Train set label distribution: [1908 1902]\n",
      "Validation set label distribution: [238 238]\n",
      "Test set label distribution: [239 238]\n"
     ]
    }
   ],
   "source": [
    "# CSV 파일을 읽어들입니다.\n",
    "df = pd.read_csv('final_dataset.csv')\n",
    "\n",
    "# 특성과 레이블을 분리합니다.\n",
    "X = df.drop('label', axis=1).values  # 특성 데이터\n",
    "y = df['label'].values  # 레이블 데이터\n",
    "\n",
    "\n",
    "# 훈련 세트와 나머지(검증+테스트) 세트로 분할합니다. (80% : 20%)\n",
    "X_train, X_temp, y_train, y_temp = train_test_split(X, y, test_size=0.2, stratify=y, random_state=42)\n",
    "\n",
    "X_train = scaler.fit_transform(X_train)\n",
    "X_temp = scaler.transform(X_temp)\n",
    "\n",
    "# X_train = X_train.reshape((X_train.shape[0], 1, X_train.shape[1]))\n",
    "# X_temp = X_temp.reshape((X_temp.shape[0], 1, X_temp.shape[1]))\n",
    "\n",
    "# 나머지 데이터를 검증 세트와 테스트 세트로 분할합니다. (50% : 50%)\n",
    "X_val, X_test, y_val, y_test = train_test_split(X_temp, y_temp, test_size=0.5, stratify=y_temp, random_state=42)\n",
    "\n",
    "# 분할된 데이터 세트의 크기를 출력합니다.\n",
    "print(f\"Train set: {X_train.shape[0]} samples\")\n",
    "print(f\"Validation set: {X_val.shape[0]} samples\")\n",
    "print(f\"Test set: {X_test.shape[0]} samples\")\n",
    "\n",
    "# 분할된 데이터 세트의 레이블 분포를 출력합니다.\n",
    "print(f\"Train set label distribution: {np.bincount(y_train.astype(int))}\")\n",
    "print(f\"Validation set label distribution: {np.bincount(y_val.astype(int))}\")\n",
    "print(f\"Test set label distribution: {np.bincount(y_test.astype(int))}\")"
   ]
  },
  {
   "cell_type": "code",
   "execution_count": 6,
   "metadata": {},
   "outputs": [
    {
     "data": {
      "text/plain": [
       "(3810, 125)"
      ]
     },
     "execution_count": 6,
     "metadata": {},
     "output_type": "execute_result"
    }
   ],
   "source": [
    "X_train.shape"
   ]
  },
  {
   "cell_type": "code",
   "execution_count": 7,
   "metadata": {},
   "outputs": [],
   "source": [
    "from sklearn.neighbors import KNeighborsClassifier\n",
    "from sklearn.metrics import classification_report, confusion_matrix\n",
    "import matplotlib.pyplot as plt\n",
    "from sklearn.metrics import accuracy_score\n",
    "import seaborn as sns\n"
   ]
  },
  {
   "cell_type": "code",
   "execution_count": 14,
   "metadata": {},
   "outputs": [
    {
     "name": "stdout",
     "output_type": "stream",
     "text": [
      "Accuracy: 0.9769\n",
      "\n",
      "Classification Report:\n",
      "              precision    recall  f1-score   support\n",
      "\n",
      "           0       0.98      0.97      0.98       238\n",
      "           1       0.97      0.98      0.98       238\n",
      "\n",
      "    accuracy                           0.98       476\n",
      "   macro avg       0.98      0.98      0.98       476\n",
      "weighted avg       0.98      0.98      0.98       476\n",
      "\n"
     ]
    },
    {
     "data": {
      "image/png": "[encoded data removed]",
      "text/plain": [
       "<Figure size 640x480 with 2 Axes>"
      ]
     },
     "metadata": {},
     "output_type": "display_data"
    }
   ],
   "source": [
    "# KNN 모델 구성\n",
    "knn_classifier = KNeighborsClassifier(n_neighbors=3)  # n_neighbors는 예시로 든 값이며, 실제로는 적절한 값으로 설정해야 합니다.\n",
    "\n",
    "# 모델 학습\n",
    "knn_classifier.fit(X_train, y_train)\n",
    "\n",
    "# 검증 세트를 이용해 예측을 수행합니다.\n",
    "y_pred = knn_classifier.predict(X_val)\n",
    "\n",
    "# 정확도를 계산하고 출력합니다.\n",
    "accuracy = accuracy_score(y_val, y_pred)\n",
    "print(f\"Accuracy: {accuracy:.4f}\")\n",
    "\n",
    "# 분류 리포트를 생성하고 출력합니다.\n",
    "class_report = classification_report(y_val, y_pred)\n",
    "print(\"\\nClassification Report:\")\n",
    "print(class_report)\n",
    "\n",
    "# 혼동 행렬을 생성하고 시각화합니다.\n",
    "conf_matrix = confusion_matrix(y_val, y_pred)\n",
    "sns.heatmap(conf_matrix, annot=True, fmt='d', cmap=\"Blues\")\n",
    "plt.xlabel('Predicted Label')\n",
    "plt.ylabel('True Label')\n",
    "plt.title('Confusion Matrix for KNN Classifier')\n",
    "plt.show()"
   ]
  },
  {
   "cell_type": "code",
   "execution_count": null,
   "metadata": {},
   "outputs": [],
   "source": []
  }
 ],
 "metadata": {
  "kernelspec": {
   "display_name": "Python 3",
   "language": "python",
   "name": "python3"
  },
  "language_info": {
   "codemirror_mode": {
    "name": "ipython",
    "version": 3
   },
   "file_extension": ".py",
   "mimetype": "text/x-python",
   "name": "python",
   "nbconvert_exporter": "python",
   "pygments_lexer": "ipython3",
   "version": "3.9.13"
  }
 },
 "nbformat": 4,
 "nbformat_minor": 2
}
