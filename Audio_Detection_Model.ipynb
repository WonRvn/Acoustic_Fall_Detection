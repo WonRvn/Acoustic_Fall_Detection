{
 "cells": [
  {
   "cell_type": "code",
   "execution_count": 145,
   "metadata": {},
   "outputs": [],
   "source": [
    "import pandas as pd\n",
    "import numpy as np"
   ]
  },
  {
   "cell_type": "code",
   "execution_count": 146,
   "metadata": {},
   "outputs": [],
   "source": [
    "# df = pd.read_csv('final_dataset.csv')"
   ]
  },
  {
   "cell_type": "code",
   "execution_count": 147,
   "metadata": {},
   "outputs": [],
   "source": [
    "import pandas as pd\n",
    "from sklearn.model_selection import train_test_split"
   ]
  },
  {
   "cell_type": "code",
   "execution_count": 148,
   "metadata": {},
   "outputs": [],
   "source": [
    "from sklearn.preprocessing import RobustScaler\n",
    "\n",
    "scaler = RobustScaler()"
   ]
  },
  {
   "cell_type": "code",
   "execution_count": 149,
   "metadata": {},
   "outputs": [
    {
     "name": "stdout",
     "output_type": "stream",
     "text": [
      "Train set: 2605 samples\n",
      "Validation set: 326 samples\n",
      "Test set: 326 samples\n",
      "Train set label distribution: [1631  974]\n",
      "Validation set label distribution: [204 122]\n",
      "Test set label distribution: [204 122]\n"
     ]
    }
   ],
   "source": [
    "# CSV 파일을 읽어들입니다.\n",
    "df = pd.read_csv('semi_dataset.csv')\n",
    "\n",
    "# 특성과 레이블을 분리합니다.\n",
    "X = df.drop('label', axis=1).values  # 특성 데이터\n",
    "y = df['label'].values  # 레이블 데이터\n",
    "\n",
    "\n",
    "# 훈련 세트와 나머지(검증+테스트) 세트로 분할합니다. (80% : 20%)\n",
    "X_train, X_temp, y_train, y_temp = train_test_split(X, y, test_size=0.2, stratify=y, random_state=42)\n",
    "\n",
    "X_train = scaler.fit_transform(X_train)\n",
    "X_temp = scaler.transform(X_temp)\n",
    "\n",
    "# X_train = X_train.reshape((X_train.shape[0], 1, X_train.shape[1]))\n",
    "# X_temp = X_temp.reshape((X_temp.shape[0], 1, X_temp.shape[1]))\n",
    "\n",
    "# 나머지 데이터를 검증 세트와 테스트 세트로 분할합니다. (50% : 50%)\n",
    "X_val, X_test, y_val, y_test = train_test_split(X_temp, y_temp, test_size=0.5, stratify=y_temp, random_state=42)\n",
    "\n",
    "# 분할된 데이터 세트의 크기를 출력합니다.\n",
    "print(f\"Train set: {X_train.shape[0]} samples\")\n",
    "print(f\"Validation set: {X_val.shape[0]} samples\")\n",
    "print(f\"Test set: {X_test.shape[0]} samples\")\n",
    "\n",
    "# 분할된 데이터 세트의 레이블 분포를 출력합니다.\n",
    "print(f\"Train set label distribution: {np.bincount(y_train.astype(int))}\")\n",
    "print(f\"Validation set label distribution: {np.bincount(y_val.astype(int))}\")\n",
    "print(f\"Test set label distribution: {np.bincount(y_test.astype(int))}\")"
   ]
  },
  {
   "cell_type": "code",
   "execution_count": 150,
   "metadata": {},
   "outputs": [
    {
     "data": {
      "text/plain": [
       "(2605, 248)"
      ]
     },
     "execution_count": 150,
     "metadata": {},
     "output_type": "execute_result"
    }
   ],
   "source": [
    "X_train.shape"
   ]
  },
  {
   "cell_type": "code",
   "execution_count": 151,
   "metadata": {},
   "outputs": [],
   "source": [
    "from sklearn.neighbors import KNeighborsClassifier\n",
    "from sklearn.metrics import classification_report, confusion_matrix\n",
    "import matplotlib.pyplot as plt\n",
    "from sklearn.metrics import accuracy_score\n",
    "import seaborn as sns\n",
    "from pycaret.classification import *"
   ]
  },
  {
   "cell_type": "code",
   "execution_count": 152,
   "metadata": {},
   "outputs": [],
   "source": [
    "# # PyCaret 설정\n",
    "# # train_size를 0.8로 설정하여 학습 데이터와 테스트 데이터를 80:20으로 분할\n",
    "# exp_clf = setup(data = df, target = 'label', session_id=123, train_size=0.8)\n",
    "\n",
    "# # 모든 분류 모델을 AUC 기준으로 비교\n",
    "# best_model = compare_models(sort = 'Accuracy')\n",
    "\n",
    "# # 가장 성능이 좋은 모델을 출력합니다.\n",
    "# print(best_model)"
   ]
  },
  {
   "cell_type": "code",
   "execution_count": 153,
   "metadata": {},
   "outputs": [],
   "source": [
    "# # PyCaret 설정\n",
    "# exp_clf = setup(data = df, target = 'label', session_id=123)\n",
    "\n",
    "# # CatBoost 모델 생성\n",
    "# cat_model = create_model('catboost', fold = 5)\n",
    "\n",
    "# # 모델 학습\n",
    "# cat_tuned = tune_model(cat_model, optimize = 'Accuracy')\n",
    "\n",
    "# # 검증 세트를 이용한 예측\n",
    "# predictions = predict_model(cat_tuned)\n",
    "\n",
    "# # 모델의 성능 평가\n",
    "# evaluate_model(cat_tuned)"
   ]
  },
  {
   "cell_type": "code",
   "execution_count": 231,
   "metadata": {},
   "outputs": [
    {
     "name": "stdout",
     "output_type": "stream",
     "text": [
      "[LightGBM] [Info] Number of positive: 974, number of negative: 1631\n",
      "[LightGBM] [Info] Auto-choosing col-wise multi-threading, the overhead of testing was 0.003661 seconds.\n",
      "You can set `force_col_wise=true` to remove the overhead.\n",
      "[LightGBM] [Info] Total Bins 63240\n",
      "[LightGBM] [Info] Number of data points in the train set: 2605, number of used features: 248\n",
      "[LightGBM] [Info] [binary:BoostFromScore]: pavg=0.373896 -> initscore=-0.515537\n",
      "[LightGBM] [Info] Start training from score -0.515537\n",
      "Validation Accuracy (LightGBM): 0.8589\n",
      "Test Accuracy (LightGBM): 0.8712\n",
      "\n",
      "Classification Report (Test set - LightGBM):\n",
      "              precision    recall  f1-score   support\n",
      "\n",
      "           0       0.90      0.89      0.90       204\n",
      "           1       0.82      0.84      0.83       122\n",
      "\n",
      "    accuracy                           0.87       326\n",
      "   macro avg       0.86      0.86      0.86       326\n",
      "weighted avg       0.87      0.87      0.87       326\n",
      "\n"
     ]
    },
    {
     "data": {
      "image/png": "[encoded data removed]",
      "text/plain": [
       "<Figure size 800x600 with 2 Axes>"
      ]
     },
     "metadata": {},
     "output_type": "display_data"
    }
   ],
   "source": [
    "from lightgbm import LGBMClassifier\n",
    "from sklearn.metrics import accuracy_score, classification_report, confusion_matrix\n",
    "import matplotlib.pyplot as plt\n",
    "import seaborn as sns\n",
    "\n",
    "# Create an instance of the LightGBM Classifier\n",
    "lgbm_classifier = LGBMClassifier()  # You can adjust hyperparameters here\n",
    "\n",
    "# Train the LightGBM model on the training data\n",
    "lgbm_classifier.fit(X_train, y_train)\n",
    "\n",
    "# Validation set evaluation\n",
    "y_pred_val_lgbm = lgbm_classifier.predict(X_val)\n",
    "accuracy_val_lgbm = accuracy_score(y_val, y_pred_val_lgbm)\n",
    "print(f\"Validation Accuracy (LightGBM): {accuracy_val_lgbm:.4f}\")\n",
    "\n",
    "# Test set evaluation\n",
    "y_pred_test_lgbm = lgbm_classifier.predict(X_test)\n",
    "accuracy_test_lgbm = accuracy_score(y_test, y_pred_test_lgbm)\n",
    "print(f\"Test Accuracy (LightGBM): {accuracy_test_lgbm:.4f}\")\n",
    "\n",
    "# Classification report and confusion matrix for test set\n",
    "class_report_test_lgbm = classification_report(y_test, y_pred_test_lgbm)\n",
    "print(\"\\nClassification Report (Test set - LightGBM):\")\n",
    "print(class_report_test_lgbm)\n",
    "\n",
    "conf_matrix_test_lgbm = confusion_matrix(y_test, y_pred_test_lgbm)\n",
    "plt.figure(figsize=(8, 6))\n",
    "sns.heatmap(conf_matrix_test_lgbm, annot=True, fmt='d', cmap=\"Blues\")\n",
    "plt.xlabel('Predicted Label')\n",
    "plt.ylabel('True Label')\n",
    "plt.title('Confusion Matrix for LightGBM (Test set)')\n",
    "plt.show()\n"
   ]
  },
  {
   "cell_type": "code",
   "execution_count": 232,
   "metadata": {},
   "outputs": [
    {
     "name": "stdout",
     "output_type": "stream",
     "text": [
      "Training Accuracy: 0.9858\n",
      "Validation Accuracy: 0.8589\n",
      "The model is overfitting.\n"
     ]
    }
   ],
   "source": [
    "# 훈련 세트에 대한 예측을 수행합니다.\n",
    "y_train_pred = lgbm_classifier.predict(X_train)\n",
    "\n",
    "# 훈련 세트의 정확도를 계산하고 출력합니다.\n",
    "train_accuracy = accuracy_score(y_train, y_train_pred)\n",
    "print(f\"Training Accuracy: {train_accuracy:.4f}\")\n",
    "\n",
    "# 검증 세트를 이용해 예측을 수행합니다.\n",
    "y_pred = lgbm_classifier.predict(X_val)\n",
    "\n",
    "# 검증 세트의 정확도를 계산하고 출력합니다.\n",
    "val_accuracy = accuracy_score(y_val, y_pred)\n",
    "print(f\"Validation Accuracy: {val_accuracy:.4f}\")\n",
    "\n",
    "# 과적합 확인\n",
    "if train_accuracy > val_accuracy:\n",
    "    print('The model is overfitting.')\n",
    "else:\n",
    "    print('The model is not overfitting.')"
   ]
  },
  {
   "cell_type": "markdown",
   "metadata": {},
   "source": [
    "### **PyAudio Setup**"
   ]
  },
  {
   "cell_type": "code",
   "execution_count": 233,
   "metadata": {},
   "outputs": [],
   "source": [
    "import pyaudio"
   ]
  },
  {
   "cell_type": "code",
   "execution_count": 234,
   "metadata": {},
   "outputs": [],
   "source": [
    "FORMAT = pyaudio.paInt16\n",
    "CHANNELS = 1\n",
    "SAMPLE_RATE = 16000\n",
    "CHUNK = int(SAMPLE_RATE / 30)\n",
    "\n",
    "audio = pyaudio.PyAudio()"
   ]
  },
  {
   "cell_type": "code",
   "execution_count": 235,
   "metadata": {},
   "outputs": [],
   "source": [
    "def int2float(sound):\n",
    "    abs_max = np.abs(sound).max()\n",
    "    sound = sound.astype('float32')\n",
    "    if abs_max > 0:\n",
    "        sound *= 1/32768\n",
    "    sound = sound.squeeze()  # depends on the use case\n",
    "    return sound"
   ]
  },
  {
   "cell_type": "code",
   "execution_count": 236,
   "metadata": {},
   "outputs": [],
   "source": [
    "import librosa\n",
    "\n",
    "continue_recording = True\n",
    "\n",
    "def stop():\n",
    "    global continue_recording\n",
    "    continue_recording = False\n",
    "\n",
    "def extract_log_mel_spectrogram(waveform):\n",
    "    n_fft_value = min(2048, len(waveform))\n",
    "    spectrogram_features = librosa.feature.melspectrogram(y=waveform, sr=SAMPLE_RATE, n_fft=n_fft_value, n_mels=248)\n",
    "    spectrogram_features = librosa.power_to_db(spectrogram_features, ref=np.max)\n",
    "    return np.mean(spectrogram_features, axis=1).reshape(1, -1)\n",
    "\n",
    "def start_recording():\n",
    "    stream = audio.open(format=FORMAT, channels=CHANNELS, rate=SAMPLE_RATE, input=True, frames_per_buffer=CHUNK)\n",
    "    data = []\n",
    "    global continue_recording\n",
    "    continue_recording = True\n",
    "\n",
    "    while continue_recording:\n",
    "        audio_chunk = stream.read(CHUNK)\n",
    "        data.append(audio_chunk)\n",
    "\n",
    "        waveform = np.frombuffer(audio_chunk, dtype=np.int16) / 32768.0\n",
    "        waveform = waveform.astype(np.float32)\n",
    "        \n",
    "        spectrogram_aggregated = extract_log_mel_spectrogram(waveform)\n",
    "        \n",
    "        if spectrogram_aggregated.shape[1] != scaler.n_features_in_:\n",
    "            raise ValueError(f\"Incorrect number of features. Expected {scaler.n_features_in_}, got {spectrogram_aggregated.shape[1]}\")\n",
    "        \n",
    "        spectrogram_scaled = scaler.transform(spectrogram_aggregated)\n",
    "        fall_detection_prediction = lgbm_classifier.predict(spectrogram_scaled)\n",
    "\n",
    "        if fall_detection_prediction == 1:\n",
    "            print(\"Fall Detected\")\n",
    "            stop()  # Stop recording if fall is detected"
   ]
  },
  {
   "cell_type": "code",
   "execution_count": 241,
   "metadata": {},
   "outputs": [
    {
     "name": "stdout",
     "output_type": "stream",
     "text": [
      "Fall Detected\n"
     ]
    }
   ],
   "source": [
    "start_recording()"
   ]
  },
  {
   "cell_type": "code",
   "execution_count": null,
   "metadata": {},
   "outputs": [],
   "source": []
  }
 ],
 "metadata": {
  "kernelspec": {
   "display_name": "Python 3",
   "language": "python",
   "name": "python3"
  },
  "language_info": {
   "codemirror_mode": {
    "name": "ipython",
    "version": 3
   },
   "file_extension": ".py",
   "mimetype": "text/x-python",
   "name": "python",
   "nbconvert_exporter": "python",
   "pygments_lexer": "ipython3",
   "version": "3.9.13"
  }
 },
 "nbformat": 4,
 "nbformat_minor": 2
}
