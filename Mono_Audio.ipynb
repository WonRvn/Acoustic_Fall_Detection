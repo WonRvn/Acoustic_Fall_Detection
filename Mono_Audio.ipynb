{
 "cells": [
  {
   "cell_type": "markdown",
   "metadata": {},
   "source": [
    "### **Converting to Mono Audio Dataset**"
   ]
  },
  {
   "cell_type": "code",
   "execution_count": 12,
   "metadata": {},
   "outputs": [],
   "source": [
    "# !git clone https://github.com/oridarshan/FallKol.git"
   ]
  },
  {
   "cell_type": "code",
   "execution_count": 13,
   "metadata": {},
   "outputs": [],
   "source": [
    "# %pip install pydub"
   ]
  },
  {
   "cell_type": "code",
   "execution_count": 14,
   "metadata": {},
   "outputs": [],
   "source": [
    "from audiomentations import Compose, AddGaussianNoise, TimeStretch, PitchShift, Shift, Gain, PolarityInversion, ClippingDistortion, TimeMask, LoudnessNormalization, Resample, HighPassFilter, LowPassFilter, BandPassFilter\n",
    "from pydub import AudioSegment\n",
    "import os\n",
    "import numpy as np"
   ]
  },
  {
   "cell_type": "code",
   "execution_count": 15,
   "metadata": {},
   "outputs": [],
   "source": [
    "# def stereo_to_mono(audio_file_name, output_file_name):\n",
    "#     if audio_file_name.endswith('.wav'):\n",
    "#         sound = AudioSegment.from_wav(audio_file_name)\n",
    "#         sound = sound.set_channels(1)\n",
    "#         sound.export(output_file_name, format=\"wav\")"
   ]
  },
  {
   "cell_type": "code",
   "execution_count": 16,
   "metadata": {},
   "outputs": [],
   "source": [
    "import warnings\n",
    "import random\n",
    "\n",
    "def augment_audio_fall(audio_file_name, output_file_name):\n",
    "    \n",
    "    try:\n",
    "        augment = Compose([\n",
    "            AddGaussianNoise(min_amplitude=0.001, max_amplitude=0.015, p=0.5),\n",
    "            Gain(min_gain_in_db=-12, max_gain_in_db=12, p=0.5),\n",
    "            TimeStretch(min_rate=0.8, max_rate=1.25, p=0.5),\n",
    "            Shift(min_shift=-0.5, max_shift=0.5, p=0.5),\n",
    "        ])\n",
    "\n",
    "\n",
    "      # 'Couldn't find ffprobe or avprobe' 경고 무시\n",
    "        with warnings.catch_warnings():\n",
    "            warnings.filterwarnings(\"ignore\", category=RuntimeWarning)\n",
    "            audio = AudioSegment.from_wav(audio_file_name)\n",
    "\n",
    "            samples = np.array(audio.get_array_of_samples())\n",
    "            sample_rate = audio.frame_rate\n",
    "\n",
    "            augmented_samples = augment(samples=samples.astype(np.float32), sample_rate=sample_rate)\n",
    "\n",
    "            # 데이터를 적절하게 잘라서 sample_width * channels의 배수가 되도록 합니다.\n",
    "            total_samples = len(augmented_samples)\n",
    "            samples_per_frame = audio.sample_width * audio.channels\n",
    "            remaining_samples = total_samples % samples_per_frame\n",
    "            if remaining_samples != 0:\n",
    "                augmented_samples = augmented_samples[:-remaining_samples]\n",
    "\n",
    "            augmented_audio = AudioSegment(data=augmented_samples.tobytes(), frame_rate=sample_rate, sample_width=audio.sample_width, channels=audio.channels)\n",
    "\n",
    "            augmented_audio.export(output_file_name, format=\"wav\")\n",
    "\n",
    "    except Exception as e:\n",
    "        print(f\"오디오 파일 {audio_file_name} 처리 중 오류 발생: {e}\")\n",
    "        return"
   ]
  },
  {
   "cell_type": "code",
   "execution_count": 17,
   "metadata": {},
   "outputs": [],
   "source": [
    "def augment_audio_nonfall(audio_file_name, output_file_name):\n",
    "    # 랜덤한 파라미터 값 생성\n",
    "    \n",
    "    try:\n",
    "        augment = Compose([\n",
    "            AddGaussianNoise(min_amplitude=0.001, max_amplitude=0.015, p=0.5),\n",
    "            Gain(min_gain_in_db=-12, max_gain_in_db=12, p=0.5),\n",
    "            LoudnessNormalization(min_lufs_in_db=-31, max_lufs_in_db=-13, p=0.5),\n",
    "            PitchShift(min_semitones=-4, max_semitones=4, p=0.5),\n",
    "            Resample(min_sample_rate=8000, max_sample_rate=44100, p=0.5),\n",
    "            TimeStretch(min_rate=0.8, max_rate=1.25, p=0.5),\n",
    "            Shift(min_shift=-0.5, max_shift=0.5, p=0.5),\n",
    "            HighPassFilter(min_cutoff_freq=20, max_cutoff_freq=24000, p=0.5),\n",
    "            LowPassFilter(min_cutoff_freq=20, max_cutoff_freq=24000, p=0.5),\n",
    "            BandPassFilter(min_center_freq=20, max_center_freq=24000, p=0.5),\n",
    "            ClippingDistortion(min_percentile_threshold=0, max_percentile_threshold=1, p=0.5),\n",
    "            PolarityInversion(p=0.5),\n",
    "            TimeMask(min_band_part=0.0, max_band_part=0.2, p=0.5)\n",
    "        ])\n",
    "\n",
    "\n",
    "      # 'Couldn't find ffprobe or avprobe' 경고 무시\n",
    "        with warnings.catch_warnings():\n",
    "            warnings.filterwarnings(\"ignore\", category=RuntimeWarning)\n",
    "            audio = AudioSegment.from_wav(audio_file_name)\n",
    "\n",
    "            samples = np.array(audio.get_array_of_samples())\n",
    "            sample_rate = audio.frame_rate\n",
    "\n",
    "            augmented_samples = augment(samples=samples.astype(np.float32), sample_rate=sample_rate)\n",
    "\n",
    "            # 데이터를 적절하게 잘라서 sample_width * channels의 배수가 되도록 합니다.\n",
    "            total_samples = len(augmented_samples)\n",
    "            samples_per_frame = audio.sample_width * audio.channels\n",
    "            remaining_samples = total_samples % samples_per_frame\n",
    "            if remaining_samples != 0:\n",
    "                augmented_samples = augmented_samples[:-remaining_samples]\n",
    "\n",
    "            augmented_audio = AudioSegment(data=augmented_samples.tobytes(), frame_rate=sample_rate, sample_width=audio.sample_width, channels=audio.channels)\n",
    "\n",
    "            augmented_audio.export(output_file_name, format=\"wav\")\n",
    "\n",
    "    except Exception as e:\n",
    "        print(f\"오디오 파일 {audio_file_name} 처리 중 오류 발생: {e}\")\n",
    "        return"
   ]
  },
  {
   "cell_type": "code",
   "execution_count": 18,
   "metadata": {},
   "outputs": [],
   "source": [
    "# # Define the directory paths\n",
    "# file_path = 'Audio_Files'\n",
    "# fall_output_path = 'Audio_Files/Fall_Mono'\n",
    "# notfall_output_path = 'Audio_Files/Non_Fall_Mono'"
   ]
  },
  {
   "cell_type": "code",
   "execution_count": 19,
   "metadata": {},
   "outputs": [],
   "source": [
    "# Define input directories for fall and nonfall files\n",
    "fall_input_path = 'Audio_Files/Fall_Mono'\n",
    "nonfall_input_path = 'Audio_Files/Non_Fall_Mono'\n",
    "\n",
    "# Define output directories for fall and nonfall files\n",
    "fall_output_path = 'Audio_Files/Fall_Mono'\n",
    "nonfall_output_path = 'Audio_Files/Non_Fall_Mono'"
   ]
  },
  {
   "cell_type": "code",
   "execution_count": 20,
   "metadata": {},
   "outputs": [],
   "source": [
    "fall_augmented_output_path = 'Aug_Audio_Files\\Aug_Fall_Mono'\n",
    "nonfall_augmented_output_path = 'Aug_Audio_Files/Aug_NonFall_Mono'"
   ]
  },
  {
   "cell_type": "code",
   "execution_count": 21,
   "metadata": {},
   "outputs": [],
   "source": [
    "# 폴 오디오 증강\n",
    "cnt_fall = 1\n",
    "for i in range(10):\n",
    "    for file_name in os.listdir(fall_input_path):\n",
    "        full_file_name = os.path.join(fall_input_path, file_name)\n",
    "        augmented_output_file_name = os.path.join(fall_augmented_output_path, f'fall_aug_{cnt_fall}.wav')\n",
    "\n",
    "        augment_audio_fall(full_file_name, augmented_output_file_name)\n",
    "        cnt_fall += 1"
   ]
  },
  {
   "cell_type": "code",
   "execution_count": 22,
   "metadata": {},
   "outputs": [
    {
     "name": "stderr",
     "output_type": "stream",
     "text": [
      "c:\\Users\\wonha\\AppData\\Local\\Programs\\Python\\Python39\\lib\\site-packages\\pyloudnorm\\normalize.py:62: UserWarning: Possible clipped samples in output.\n",
      "  warnings.warn(\"Possible clipped samples in output.\")\n",
      "c:\\Users\\wonha\\AppData\\Local\\Programs\\Python\\Python39\\lib\\site-packages\\pyloudnorm\\normalize.py:62: UserWarning: Possible clipped samples in output.\n",
      "  warnings.warn(\"Possible clipped samples in output.\")\n",
      "c:\\Users\\wonha\\AppData\\Local\\Programs\\Python\\Python39\\lib\\site-packages\\pyloudnorm\\normalize.py:62: UserWarning: Possible clipped samples in output.\n",
      "  warnings.warn(\"Possible clipped samples in output.\")\n",
      "c:\\Users\\wonha\\AppData\\Local\\Programs\\Python\\Python39\\lib\\site-packages\\pyloudnorm\\normalize.py:62: UserWarning: Possible clipped samples in output.\n",
      "  warnings.warn(\"Possible clipped samples in output.\")\n",
      "c:\\Users\\wonha\\AppData\\Local\\Programs\\Python\\Python39\\lib\\site-packages\\pyloudnorm\\normalize.py:62: UserWarning: Possible clipped samples in output.\n",
      "  warnings.warn(\"Possible clipped samples in output.\")\n",
      "c:\\Users\\wonha\\AppData\\Local\\Programs\\Python\\Python39\\lib\\site-packages\\pyloudnorm\\normalize.py:62: UserWarning: Possible clipped samples in output.\n",
      "  warnings.warn(\"Possible clipped samples in output.\")\n",
      "c:\\Users\\wonha\\AppData\\Local\\Programs\\Python\\Python39\\lib\\site-packages\\pyloudnorm\\normalize.py:62: UserWarning: Possible clipped samples in output.\n",
      "  warnings.warn(\"Possible clipped samples in output.\")\n"
     ]
    },
    {
     "name": "stdout",
     "output_type": "stream",
     "text": [
      "오디오 파일 Audio_Files/Non_Fall_Mono\\notfall134.wav 처리 중 오류 발생: [WinError 2] 지정된 파일을 찾을 수 없습니다\n"
     ]
    },
    {
     "name": "stderr",
     "output_type": "stream",
     "text": [
      "c:\\Users\\wonha\\AppData\\Local\\Programs\\Python\\Python39\\lib\\site-packages\\pyloudnorm\\normalize.py:62: UserWarning: Possible clipped samples in output.\n",
      "  warnings.warn(\"Possible clipped samples in output.\")\n"
     ]
    },
    {
     "name": "stdout",
     "output_type": "stream",
     "text": [
      "오디오 파일 Audio_Files/Non_Fall_Mono\\notfall162.wav 처리 중 오류 발생: [WinError 2] 지정된 파일을 찾을 수 없습니다\n"
     ]
    },
    {
     "name": "stderr",
     "output_type": "stream",
     "text": [
      "c:\\Users\\wonha\\AppData\\Local\\Programs\\Python\\Python39\\lib\\site-packages\\pyloudnorm\\normalize.py:62: UserWarning: Possible clipped samples in output.\n",
      "  warnings.warn(\"Possible clipped samples in output.\")\n",
      "c:\\Users\\wonha\\AppData\\Local\\Programs\\Python\\Python39\\lib\\site-packages\\pyloudnorm\\normalize.py:62: UserWarning: Possible clipped samples in output.\n",
      "  warnings.warn(\"Possible clipped samples in output.\")\n",
      "c:\\Users\\wonha\\AppData\\Local\\Programs\\Python\\Python39\\lib\\site-packages\\pyloudnorm\\normalize.py:62: UserWarning: Possible clipped samples in output.\n",
      "  warnings.warn(\"Possible clipped samples in output.\")\n",
      "c:\\Users\\wonha\\AppData\\Local\\Programs\\Python\\Python39\\lib\\site-packages\\pyloudnorm\\normalize.py:62: UserWarning: Possible clipped samples in output.\n",
      "  warnings.warn(\"Possible clipped samples in output.\")\n",
      "c:\\Users\\wonha\\AppData\\Local\\Programs\\Python\\Python39\\lib\\site-packages\\pyloudnorm\\normalize.py:62: UserWarning: Possible clipped samples in output.\n",
      "  warnings.warn(\"Possible clipped samples in output.\")\n",
      "c:\\Users\\wonha\\AppData\\Local\\Programs\\Python\\Python39\\lib\\site-packages\\pyloudnorm\\normalize.py:62: UserWarning: Possible clipped samples in output.\n",
      "  warnings.warn(\"Possible clipped samples in output.\")\n",
      "c:\\Users\\wonha\\AppData\\Local\\Programs\\Python\\Python39\\lib\\site-packages\\pyloudnorm\\normalize.py:62: UserWarning: Possible clipped samples in output.\n",
      "  warnings.warn(\"Possible clipped samples in output.\")\n",
      "c:\\Users\\wonha\\AppData\\Local\\Programs\\Python\\Python39\\lib\\site-packages\\pyloudnorm\\normalize.py:62: UserWarning: Possible clipped samples in output.\n",
      "  warnings.warn(\"Possible clipped samples in output.\")\n",
      "c:\\Users\\wonha\\AppData\\Local\\Programs\\Python\\Python39\\lib\\site-packages\\pyloudnorm\\normalize.py:62: UserWarning: Possible clipped samples in output.\n",
      "  warnings.warn(\"Possible clipped samples in output.\")\n",
      "c:\\Users\\wonha\\AppData\\Local\\Programs\\Python\\Python39\\lib\\site-packages\\pyloudnorm\\normalize.py:62: UserWarning: Possible clipped samples in output.\n",
      "  warnings.warn(\"Possible clipped samples in output.\")\n",
      "c:\\Users\\wonha\\AppData\\Local\\Programs\\Python\\Python39\\lib\\site-packages\\pyloudnorm\\normalize.py:62: UserWarning: Possible clipped samples in output.\n",
      "  warnings.warn(\"Possible clipped samples in output.\")\n"
     ]
    },
    {
     "name": "stdout",
     "output_type": "stream",
     "text": [
      "오디오 파일 Audio_Files/Non_Fall_Mono\\notfall134.wav 처리 중 오류 발생: [WinError 2] 지정된 파일을 찾을 수 없습니다\n"
     ]
    },
    {
     "name": "stderr",
     "output_type": "stream",
     "text": [
      "c:\\Users\\wonha\\AppData\\Local\\Programs\\Python\\Python39\\lib\\site-packages\\pyloudnorm\\normalize.py:62: UserWarning: Possible clipped samples in output.\n",
      "  warnings.warn(\"Possible clipped samples in output.\")\n",
      "c:\\Users\\wonha\\AppData\\Local\\Programs\\Python\\Python39\\lib\\site-packages\\pyloudnorm\\normalize.py:62: UserWarning: Possible clipped samples in output.\n",
      "  warnings.warn(\"Possible clipped samples in output.\")\n",
      "c:\\Users\\wonha\\AppData\\Local\\Programs\\Python\\Python39\\lib\\site-packages\\pyloudnorm\\normalize.py:62: UserWarning: Possible clipped samples in output.\n",
      "  warnings.warn(\"Possible clipped samples in output.\")\n"
     ]
    },
    {
     "name": "stdout",
     "output_type": "stream",
     "text": [
      "오디오 파일 Audio_Files/Non_Fall_Mono\\notfall162.wav 처리 중 오류 발생: [WinError 2] 지정된 파일을 찾을 수 없습니다\n"
     ]
    },
    {
     "name": "stderr",
     "output_type": "stream",
     "text": [
      "c:\\Users\\wonha\\AppData\\Local\\Programs\\Python\\Python39\\lib\\site-packages\\pyloudnorm\\normalize.py:62: UserWarning: Possible clipped samples in output.\n",
      "  warnings.warn(\"Possible clipped samples in output.\")\n",
      "c:\\Users\\wonha\\AppData\\Local\\Programs\\Python\\Python39\\lib\\site-packages\\pyloudnorm\\normalize.py:62: UserWarning: Possible clipped samples in output.\n",
      "  warnings.warn(\"Possible clipped samples in output.\")\n",
      "c:\\Users\\wonha\\AppData\\Local\\Programs\\Python\\Python39\\lib\\site-packages\\pyloudnorm\\normalize.py:62: UserWarning: Possible clipped samples in output.\n",
      "  warnings.warn(\"Possible clipped samples in output.\")\n",
      "c:\\Users\\wonha\\AppData\\Local\\Programs\\Python\\Python39\\lib\\site-packages\\pyloudnorm\\normalize.py:62: UserWarning: Possible clipped samples in output.\n",
      "  warnings.warn(\"Possible clipped samples in output.\")\n",
      "c:\\Users\\wonha\\AppData\\Local\\Programs\\Python\\Python39\\lib\\site-packages\\pyloudnorm\\normalize.py:62: UserWarning: Possible clipped samples in output.\n",
      "  warnings.warn(\"Possible clipped samples in output.\")\n",
      "c:\\Users\\wonha\\AppData\\Local\\Programs\\Python\\Python39\\lib\\site-packages\\pyloudnorm\\normalize.py:62: UserWarning: Possible clipped samples in output.\n",
      "  warnings.warn(\"Possible clipped samples in output.\")\n",
      "c:\\Users\\wonha\\AppData\\Local\\Programs\\Python\\Python39\\lib\\site-packages\\pyloudnorm\\normalize.py:62: UserWarning: Possible clipped samples in output.\n",
      "  warnings.warn(\"Possible clipped samples in output.\")\n",
      "c:\\Users\\wonha\\AppData\\Local\\Programs\\Python\\Python39\\lib\\site-packages\\pyloudnorm\\normalize.py:62: UserWarning: Possible clipped samples in output.\n",
      "  warnings.warn(\"Possible clipped samples in output.\")\n",
      "c:\\Users\\wonha\\AppData\\Local\\Programs\\Python\\Python39\\lib\\site-packages\\pyloudnorm\\normalize.py:62: UserWarning: Possible clipped samples in output.\n",
      "  warnings.warn(\"Possible clipped samples in output.\")\n",
      "c:\\Users\\wonha\\AppData\\Local\\Programs\\Python\\Python39\\lib\\site-packages\\pyloudnorm\\normalize.py:62: UserWarning: Possible clipped samples in output.\n",
      "  warnings.warn(\"Possible clipped samples in output.\")\n",
      "c:\\Users\\wonha\\AppData\\Local\\Programs\\Python\\Python39\\lib\\site-packages\\pyloudnorm\\normalize.py:62: UserWarning: Possible clipped samples in output.\n",
      "  warnings.warn(\"Possible clipped samples in output.\")\n",
      "c:\\Users\\wonha\\AppData\\Local\\Programs\\Python\\Python39\\lib\\site-packages\\pyloudnorm\\normalize.py:62: UserWarning: Possible clipped samples in output.\n",
      "  warnings.warn(\"Possible clipped samples in output.\")\n"
     ]
    },
    {
     "name": "stdout",
     "output_type": "stream",
     "text": [
      "오디오 파일 Audio_Files/Non_Fall_Mono\\notfall134.wav 처리 중 오류 발생: [WinError 2] 지정된 파일을 찾을 수 없습니다\n"
     ]
    },
    {
     "name": "stderr",
     "output_type": "stream",
     "text": [
      "c:\\Users\\wonha\\AppData\\Local\\Programs\\Python\\Python39\\lib\\site-packages\\pyloudnorm\\normalize.py:62: UserWarning: Possible clipped samples in output.\n",
      "  warnings.warn(\"Possible clipped samples in output.\")\n",
      "c:\\Users\\wonha\\AppData\\Local\\Programs\\Python\\Python39\\lib\\site-packages\\pyloudnorm\\normalize.py:62: UserWarning: Possible clipped samples in output.\n",
      "  warnings.warn(\"Possible clipped samples in output.\")\n"
     ]
    },
    {
     "name": "stdout",
     "output_type": "stream",
     "text": [
      "오디오 파일 Audio_Files/Non_Fall_Mono\\notfall162.wav 처리 중 오류 발생: [WinError 2] 지정된 파일을 찾을 수 없습니다\n"
     ]
    },
    {
     "name": "stderr",
     "output_type": "stream",
     "text": [
      "c:\\Users\\wonha\\AppData\\Local\\Programs\\Python\\Python39\\lib\\site-packages\\pyloudnorm\\normalize.py:62: UserWarning: Possible clipped samples in output.\n",
      "  warnings.warn(\"Possible clipped samples in output.\")\n",
      "c:\\Users\\wonha\\AppData\\Local\\Programs\\Python\\Python39\\lib\\site-packages\\pyloudnorm\\normalize.py:62: UserWarning: Possible clipped samples in output.\n",
      "  warnings.warn(\"Possible clipped samples in output.\")\n",
      "c:\\Users\\wonha\\AppData\\Local\\Programs\\Python\\Python39\\lib\\site-packages\\pyloudnorm\\normalize.py:62: UserWarning: Possible clipped samples in output.\n",
      "  warnings.warn(\"Possible clipped samples in output.\")\n",
      "c:\\Users\\wonha\\AppData\\Local\\Programs\\Python\\Python39\\lib\\site-packages\\pyloudnorm\\normalize.py:62: UserWarning: Possible clipped samples in output.\n",
      "  warnings.warn(\"Possible clipped samples in output.\")\n",
      "c:\\Users\\wonha\\AppData\\Local\\Programs\\Python\\Python39\\lib\\site-packages\\pyloudnorm\\normalize.py:62: UserWarning: Possible clipped samples in output.\n",
      "  warnings.warn(\"Possible clipped samples in output.\")\n",
      "c:\\Users\\wonha\\AppData\\Local\\Programs\\Python\\Python39\\lib\\site-packages\\pyloudnorm\\normalize.py:62: UserWarning: Possible clipped samples in output.\n",
      "  warnings.warn(\"Possible clipped samples in output.\")\n",
      "c:\\Users\\wonha\\AppData\\Local\\Programs\\Python\\Python39\\lib\\site-packages\\pyloudnorm\\normalize.py:62: UserWarning: Possible clipped samples in output.\n",
      "  warnings.warn(\"Possible clipped samples in output.\")\n",
      "c:\\Users\\wonha\\AppData\\Local\\Programs\\Python\\Python39\\lib\\site-packages\\pyloudnorm\\normalize.py:62: UserWarning: Possible clipped samples in output.\n",
      "  warnings.warn(\"Possible clipped samples in output.\")\n",
      "c:\\Users\\wonha\\AppData\\Local\\Programs\\Python\\Python39\\lib\\site-packages\\pyloudnorm\\normalize.py:62: UserWarning: Possible clipped samples in output.\n",
      "  warnings.warn(\"Possible clipped samples in output.\")\n",
      "c:\\Users\\wonha\\AppData\\Local\\Programs\\Python\\Python39\\lib\\site-packages\\pyloudnorm\\normalize.py:62: UserWarning: Possible clipped samples in output.\n",
      "  warnings.warn(\"Possible clipped samples in output.\")\n",
      "c:\\Users\\wonha\\AppData\\Local\\Programs\\Python\\Python39\\lib\\site-packages\\pyloudnorm\\normalize.py:62: UserWarning: Possible clipped samples in output.\n",
      "  warnings.warn(\"Possible clipped samples in output.\")\n"
     ]
    },
    {
     "name": "stdout",
     "output_type": "stream",
     "text": [
      "오디오 파일 Audio_Files/Non_Fall_Mono\\notfall134.wav 처리 중 오류 발생: [WinError 2] 지정된 파일을 찾을 수 없습니다\n"
     ]
    },
    {
     "name": "stderr",
     "output_type": "stream",
     "text": [
      "c:\\Users\\wonha\\AppData\\Local\\Programs\\Python\\Python39\\lib\\site-packages\\pyloudnorm\\normalize.py:62: UserWarning: Possible clipped samples in output.\n",
      "  warnings.warn(\"Possible clipped samples in output.\")\n",
      "c:\\Users\\wonha\\AppData\\Local\\Programs\\Python\\Python39\\lib\\site-packages\\pyloudnorm\\normalize.py:62: UserWarning: Possible clipped samples in output.\n",
      "  warnings.warn(\"Possible clipped samples in output.\")\n",
      "c:\\Users\\wonha\\AppData\\Local\\Programs\\Python\\Python39\\lib\\site-packages\\pyloudnorm\\normalize.py:62: UserWarning: Possible clipped samples in output.\n",
      "  warnings.warn(\"Possible clipped samples in output.\")\n"
     ]
    },
    {
     "name": "stdout",
     "output_type": "stream",
     "text": [
      "오디오 파일 Audio_Files/Non_Fall_Mono\\notfall162.wav 처리 중 오류 발생: [WinError 2] 지정된 파일을 찾을 수 없습니다\n"
     ]
    },
    {
     "name": "stderr",
     "output_type": "stream",
     "text": [
      "c:\\Users\\wonha\\AppData\\Local\\Programs\\Python\\Python39\\lib\\site-packages\\pyloudnorm\\normalize.py:62: UserWarning: Possible clipped samples in output.\n",
      "  warnings.warn(\"Possible clipped samples in output.\")\n",
      "c:\\Users\\wonha\\AppData\\Local\\Programs\\Python\\Python39\\lib\\site-packages\\pyloudnorm\\normalize.py:62: UserWarning: Possible clipped samples in output.\n",
      "  warnings.warn(\"Possible clipped samples in output.\")\n",
      "c:\\Users\\wonha\\AppData\\Local\\Programs\\Python\\Python39\\lib\\site-packages\\pyloudnorm\\normalize.py:62: UserWarning: Possible clipped samples in output.\n",
      "  warnings.warn(\"Possible clipped samples in output.\")\n",
      "c:\\Users\\wonha\\AppData\\Local\\Programs\\Python\\Python39\\lib\\site-packages\\pyloudnorm\\normalize.py:62: UserWarning: Possible clipped samples in output.\n",
      "  warnings.warn(\"Possible clipped samples in output.\")\n",
      "c:\\Users\\wonha\\AppData\\Local\\Programs\\Python\\Python39\\lib\\site-packages\\pyloudnorm\\normalize.py:62: UserWarning: Possible clipped samples in output.\n",
      "  warnings.warn(\"Possible clipped samples in output.\")\n",
      "c:\\Users\\wonha\\AppData\\Local\\Programs\\Python\\Python39\\lib\\site-packages\\pyloudnorm\\normalize.py:62: UserWarning: Possible clipped samples in output.\n",
      "  warnings.warn(\"Possible clipped samples in output.\")\n",
      "c:\\Users\\wonha\\AppData\\Local\\Programs\\Python\\Python39\\lib\\site-packages\\pyloudnorm\\normalize.py:62: UserWarning: Possible clipped samples in output.\n",
      "  warnings.warn(\"Possible clipped samples in output.\")\n",
      "c:\\Users\\wonha\\AppData\\Local\\Programs\\Python\\Python39\\lib\\site-packages\\pyloudnorm\\normalize.py:62: UserWarning: Possible clipped samples in output.\n",
      "  warnings.warn(\"Possible clipped samples in output.\")\n",
      "c:\\Users\\wonha\\AppData\\Local\\Programs\\Python\\Python39\\lib\\site-packages\\pyloudnorm\\normalize.py:62: UserWarning: Possible clipped samples in output.\n",
      "  warnings.warn(\"Possible clipped samples in output.\")\n",
      "c:\\Users\\wonha\\AppData\\Local\\Programs\\Python\\Python39\\lib\\site-packages\\pyloudnorm\\normalize.py:62: UserWarning: Possible clipped samples in output.\n",
      "  warnings.warn(\"Possible clipped samples in output.\")\n",
      "c:\\Users\\wonha\\AppData\\Local\\Programs\\Python\\Python39\\lib\\site-packages\\pyloudnorm\\normalize.py:62: UserWarning: Possible clipped samples in output.\n",
      "  warnings.warn(\"Possible clipped samples in output.\")\n",
      "c:\\Users\\wonha\\AppData\\Local\\Programs\\Python\\Python39\\lib\\site-packages\\pyloudnorm\\normalize.py:62: UserWarning: Possible clipped samples in output.\n",
      "  warnings.warn(\"Possible clipped samples in output.\")\n",
      "c:\\Users\\wonha\\AppData\\Local\\Programs\\Python\\Python39\\lib\\site-packages\\pyloudnorm\\normalize.py:62: UserWarning: Possible clipped samples in output.\n",
      "  warnings.warn(\"Possible clipped samples in output.\")\n",
      "c:\\Users\\wonha\\AppData\\Local\\Programs\\Python\\Python39\\lib\\site-packages\\pyloudnorm\\normalize.py:62: UserWarning: Possible clipped samples in output.\n",
      "  warnings.warn(\"Possible clipped samples in output.\")\n",
      "c:\\Users\\wonha\\AppData\\Local\\Programs\\Python\\Python39\\lib\\site-packages\\pyloudnorm\\normalize.py:62: UserWarning: Possible clipped samples in output.\n",
      "  warnings.warn(\"Possible clipped samples in output.\")\n",
      "c:\\Users\\wonha\\AppData\\Local\\Programs\\Python\\Python39\\lib\\site-packages\\pyloudnorm\\normalize.py:62: UserWarning: Possible clipped samples in output.\n",
      "  warnings.warn(\"Possible clipped samples in output.\")\n",
      "c:\\Users\\wonha\\AppData\\Local\\Programs\\Python\\Python39\\lib\\site-packages\\pyloudnorm\\normalize.py:62: UserWarning: Possible clipped samples in output.\n",
      "  warnings.warn(\"Possible clipped samples in output.\")\n",
      "c:\\Users\\wonha\\AppData\\Local\\Programs\\Python\\Python39\\lib\\site-packages\\pyloudnorm\\normalize.py:62: UserWarning: Possible clipped samples in output.\n",
      "  warnings.warn(\"Possible clipped samples in output.\")\n",
      "c:\\Users\\wonha\\AppData\\Local\\Programs\\Python\\Python39\\lib\\site-packages\\pyloudnorm\\normalize.py:62: UserWarning: Possible clipped samples in output.\n",
      "  warnings.warn(\"Possible clipped samples in output.\")\n"
     ]
    },
    {
     "name": "stdout",
     "output_type": "stream",
     "text": [
      "오디오 파일 Audio_Files/Non_Fall_Mono\\notfall134.wav 처리 중 오류 발생: [WinError 2] 지정된 파일을 찾을 수 없습니다\n"
     ]
    },
    {
     "name": "stderr",
     "output_type": "stream",
     "text": [
      "c:\\Users\\wonha\\AppData\\Local\\Programs\\Python\\Python39\\lib\\site-packages\\pyloudnorm\\normalize.py:62: UserWarning: Possible clipped samples in output.\n",
      "  warnings.warn(\"Possible clipped samples in output.\")\n"
     ]
    },
    {
     "name": "stdout",
     "output_type": "stream",
     "text": [
      "오디오 파일 Audio_Files/Non_Fall_Mono\\notfall162.wav 처리 중 오류 발생: [WinError 2] 지정된 파일을 찾을 수 없습니다\n"
     ]
    },
    {
     "name": "stderr",
     "output_type": "stream",
     "text": [
      "c:\\Users\\wonha\\AppData\\Local\\Programs\\Python\\Python39\\lib\\site-packages\\pyloudnorm\\normalize.py:62: UserWarning: Possible clipped samples in output.\n",
      "  warnings.warn(\"Possible clipped samples in output.\")\n",
      "c:\\Users\\wonha\\AppData\\Local\\Programs\\Python\\Python39\\lib\\site-packages\\pyloudnorm\\normalize.py:62: UserWarning: Possible clipped samples in output.\n",
      "  warnings.warn(\"Possible clipped samples in output.\")\n",
      "c:\\Users\\wonha\\AppData\\Local\\Programs\\Python\\Python39\\lib\\site-packages\\pyloudnorm\\normalize.py:62: UserWarning: Possible clipped samples in output.\n",
      "  warnings.warn(\"Possible clipped samples in output.\")\n",
      "c:\\Users\\wonha\\AppData\\Local\\Programs\\Python\\Python39\\lib\\site-packages\\pyloudnorm\\normalize.py:62: UserWarning: Possible clipped samples in output.\n",
      "  warnings.warn(\"Possible clipped samples in output.\")\n",
      "c:\\Users\\wonha\\AppData\\Local\\Programs\\Python\\Python39\\lib\\site-packages\\pyloudnorm\\normalize.py:62: UserWarning: Possible clipped samples in output.\n",
      "  warnings.warn(\"Possible clipped samples in output.\")\n",
      "c:\\Users\\wonha\\AppData\\Local\\Programs\\Python\\Python39\\lib\\site-packages\\pyloudnorm\\normalize.py:62: UserWarning: Possible clipped samples in output.\n",
      "  warnings.warn(\"Possible clipped samples in output.\")\n",
      "c:\\Users\\wonha\\AppData\\Local\\Programs\\Python\\Python39\\lib\\site-packages\\pyloudnorm\\normalize.py:62: UserWarning: Possible clipped samples in output.\n",
      "  warnings.warn(\"Possible clipped samples in output.\")\n",
      "c:\\Users\\wonha\\AppData\\Local\\Programs\\Python\\Python39\\lib\\site-packages\\pyloudnorm\\normalize.py:62: UserWarning: Possible clipped samples in output.\n",
      "  warnings.warn(\"Possible clipped samples in output.\")\n",
      "c:\\Users\\wonha\\AppData\\Local\\Programs\\Python\\Python39\\lib\\site-packages\\pyloudnorm\\normalize.py:62: UserWarning: Possible clipped samples in output.\n",
      "  warnings.warn(\"Possible clipped samples in output.\")\n",
      "c:\\Users\\wonha\\AppData\\Local\\Programs\\Python\\Python39\\lib\\site-packages\\pyloudnorm\\normalize.py:62: UserWarning: Possible clipped samples in output.\n",
      "  warnings.warn(\"Possible clipped samples in output.\")\n",
      "c:\\Users\\wonha\\AppData\\Local\\Programs\\Python\\Python39\\lib\\site-packages\\pyloudnorm\\normalize.py:62: UserWarning: Possible clipped samples in output.\n",
      "  warnings.warn(\"Possible clipped samples in output.\")\n"
     ]
    },
    {
     "name": "stdout",
     "output_type": "stream",
     "text": [
      "오디오 파일 Audio_Files/Non_Fall_Mono\\notfall134.wav 처리 중 오류 발생: [WinError 2] 지정된 파일을 찾을 수 없습니다\n"
     ]
    },
    {
     "name": "stderr",
     "output_type": "stream",
     "text": [
      "c:\\Users\\wonha\\AppData\\Local\\Programs\\Python\\Python39\\lib\\site-packages\\pyloudnorm\\normalize.py:62: UserWarning: Possible clipped samples in output.\n",
      "  warnings.warn(\"Possible clipped samples in output.\")\n",
      "c:\\Users\\wonha\\AppData\\Local\\Programs\\Python\\Python39\\lib\\site-packages\\pyloudnorm\\normalize.py:62: UserWarning: Possible clipped samples in output.\n",
      "  warnings.warn(\"Possible clipped samples in output.\")\n",
      "c:\\Users\\wonha\\AppData\\Local\\Programs\\Python\\Python39\\lib\\site-packages\\pyloudnorm\\normalize.py:62: UserWarning: Possible clipped samples in output.\n",
      "  warnings.warn(\"Possible clipped samples in output.\")\n",
      "c:\\Users\\wonha\\AppData\\Local\\Programs\\Python\\Python39\\lib\\site-packages\\pyloudnorm\\normalize.py:62: UserWarning: Possible clipped samples in output.\n",
      "  warnings.warn(\"Possible clipped samples in output.\")\n",
      "c:\\Users\\wonha\\AppData\\Local\\Programs\\Python\\Python39\\lib\\site-packages\\pyloudnorm\\normalize.py:62: UserWarning: Possible clipped samples in output.\n",
      "  warnings.warn(\"Possible clipped samples in output.\")\n"
     ]
    },
    {
     "name": "stdout",
     "output_type": "stream",
     "text": [
      "오디오 파일 Audio_Files/Non_Fall_Mono\\notfall162.wav 처리 중 오류 발생: [WinError 2] 지정된 파일을 찾을 수 없습니다\n"
     ]
    },
    {
     "name": "stderr",
     "output_type": "stream",
     "text": [
      "c:\\Users\\wonha\\AppData\\Local\\Programs\\Python\\Python39\\lib\\site-packages\\pyloudnorm\\normalize.py:62: UserWarning: Possible clipped samples in output.\n",
      "  warnings.warn(\"Possible clipped samples in output.\")\n",
      "c:\\Users\\wonha\\AppData\\Local\\Programs\\Python\\Python39\\lib\\site-packages\\pyloudnorm\\normalize.py:62: UserWarning: Possible clipped samples in output.\n",
      "  warnings.warn(\"Possible clipped samples in output.\")\n",
      "c:\\Users\\wonha\\AppData\\Local\\Programs\\Python\\Python39\\lib\\site-packages\\pyloudnorm\\normalize.py:62: UserWarning: Possible clipped samples in output.\n",
      "  warnings.warn(\"Possible clipped samples in output.\")\n",
      "c:\\Users\\wonha\\AppData\\Local\\Programs\\Python\\Python39\\lib\\site-packages\\pyloudnorm\\normalize.py:62: UserWarning: Possible clipped samples in output.\n",
      "  warnings.warn(\"Possible clipped samples in output.\")\n",
      "c:\\Users\\wonha\\AppData\\Local\\Programs\\Python\\Python39\\lib\\site-packages\\pyloudnorm\\normalize.py:62: UserWarning: Possible clipped samples in output.\n",
      "  warnings.warn(\"Possible clipped samples in output.\")\n",
      "c:\\Users\\wonha\\AppData\\Local\\Programs\\Python\\Python39\\lib\\site-packages\\pyloudnorm\\normalize.py:62: UserWarning: Possible clipped samples in output.\n",
      "  warnings.warn(\"Possible clipped samples in output.\")\n",
      "c:\\Users\\wonha\\AppData\\Local\\Programs\\Python\\Python39\\lib\\site-packages\\pyloudnorm\\normalize.py:62: UserWarning: Possible clipped samples in output.\n",
      "  warnings.warn(\"Possible clipped samples in output.\")\n",
      "c:\\Users\\wonha\\AppData\\Local\\Programs\\Python\\Python39\\lib\\site-packages\\pyloudnorm\\normalize.py:62: UserWarning: Possible clipped samples in output.\n",
      "  warnings.warn(\"Possible clipped samples in output.\")\n",
      "c:\\Users\\wonha\\AppData\\Local\\Programs\\Python\\Python39\\lib\\site-packages\\pyloudnorm\\normalize.py:62: UserWarning: Possible clipped samples in output.\n",
      "  warnings.warn(\"Possible clipped samples in output.\")\n",
      "c:\\Users\\wonha\\AppData\\Local\\Programs\\Python\\Python39\\lib\\site-packages\\pyloudnorm\\normalize.py:62: UserWarning: Possible clipped samples in output.\n",
      "  warnings.warn(\"Possible clipped samples in output.\")\n",
      "c:\\Users\\wonha\\AppData\\Local\\Programs\\Python\\Python39\\lib\\site-packages\\pyloudnorm\\normalize.py:62: UserWarning: Possible clipped samples in output.\n",
      "  warnings.warn(\"Possible clipped samples in output.\")\n"
     ]
    },
    {
     "name": "stdout",
     "output_type": "stream",
     "text": [
      "오디오 파일 Audio_Files/Non_Fall_Mono\\notfall134.wav 처리 중 오류 발생: [WinError 2] 지정된 파일을 찾을 수 없습니다\n"
     ]
    },
    {
     "name": "stderr",
     "output_type": "stream",
     "text": [
      "c:\\Users\\wonha\\AppData\\Local\\Programs\\Python\\Python39\\lib\\site-packages\\pyloudnorm\\normalize.py:62: UserWarning: Possible clipped samples in output.\n",
      "  warnings.warn(\"Possible clipped samples in output.\")\n",
      "c:\\Users\\wonha\\AppData\\Local\\Programs\\Python\\Python39\\lib\\site-packages\\pyloudnorm\\normalize.py:62: UserWarning: Possible clipped samples in output.\n",
      "  warnings.warn(\"Possible clipped samples in output.\")\n"
     ]
    },
    {
     "name": "stdout",
     "output_type": "stream",
     "text": [
      "오디오 파일 Audio_Files/Non_Fall_Mono\\notfall162.wav 처리 중 오류 발생: [WinError 2] 지정된 파일을 찾을 수 없습니다\n"
     ]
    },
    {
     "name": "stderr",
     "output_type": "stream",
     "text": [
      "c:\\Users\\wonha\\AppData\\Local\\Programs\\Python\\Python39\\lib\\site-packages\\pyloudnorm\\normalize.py:62: UserWarning: Possible clipped samples in output.\n",
      "  warnings.warn(\"Possible clipped samples in output.\")\n",
      "c:\\Users\\wonha\\AppData\\Local\\Programs\\Python\\Python39\\lib\\site-packages\\pyloudnorm\\normalize.py:62: UserWarning: Possible clipped samples in output.\n",
      "  warnings.warn(\"Possible clipped samples in output.\")\n",
      "c:\\Users\\wonha\\AppData\\Local\\Programs\\Python\\Python39\\lib\\site-packages\\pyloudnorm\\normalize.py:62: UserWarning: Possible clipped samples in output.\n",
      "  warnings.warn(\"Possible clipped samples in output.\")\n",
      "c:\\Users\\wonha\\AppData\\Local\\Programs\\Python\\Python39\\lib\\site-packages\\pyloudnorm\\normalize.py:62: UserWarning: Possible clipped samples in output.\n",
      "  warnings.warn(\"Possible clipped samples in output.\")\n",
      "c:\\Users\\wonha\\AppData\\Local\\Programs\\Python\\Python39\\lib\\site-packages\\pyloudnorm\\normalize.py:62: UserWarning: Possible clipped samples in output.\n",
      "  warnings.warn(\"Possible clipped samples in output.\")\n",
      "c:\\Users\\wonha\\AppData\\Local\\Programs\\Python\\Python39\\lib\\site-packages\\pyloudnorm\\normalize.py:62: UserWarning: Possible clipped samples in output.\n",
      "  warnings.warn(\"Possible clipped samples in output.\")\n",
      "c:\\Users\\wonha\\AppData\\Local\\Programs\\Python\\Python39\\lib\\site-packages\\pyloudnorm\\normalize.py:62: UserWarning: Possible clipped samples in output.\n",
      "  warnings.warn(\"Possible clipped samples in output.\")\n",
      "c:\\Users\\wonha\\AppData\\Local\\Programs\\Python\\Python39\\lib\\site-packages\\pyloudnorm\\normalize.py:62: UserWarning: Possible clipped samples in output.\n",
      "  warnings.warn(\"Possible clipped samples in output.\")\n",
      "c:\\Users\\wonha\\AppData\\Local\\Programs\\Python\\Python39\\lib\\site-packages\\pyloudnorm\\normalize.py:62: UserWarning: Possible clipped samples in output.\n",
      "  warnings.warn(\"Possible clipped samples in output.\")\n",
      "c:\\Users\\wonha\\AppData\\Local\\Programs\\Python\\Python39\\lib\\site-packages\\pyloudnorm\\normalize.py:62: UserWarning: Possible clipped samples in output.\n",
      "  warnings.warn(\"Possible clipped samples in output.\")\n",
      "c:\\Users\\wonha\\AppData\\Local\\Programs\\Python\\Python39\\lib\\site-packages\\pyloudnorm\\normalize.py:62: UserWarning: Possible clipped samples in output.\n",
      "  warnings.warn(\"Possible clipped samples in output.\")\n",
      "c:\\Users\\wonha\\AppData\\Local\\Programs\\Python\\Python39\\lib\\site-packages\\pyloudnorm\\normalize.py:62: UserWarning: Possible clipped samples in output.\n",
      "  warnings.warn(\"Possible clipped samples in output.\")\n"
     ]
    },
    {
     "name": "stdout",
     "output_type": "stream",
     "text": [
      "오디오 파일 Audio_Files/Non_Fall_Mono\\notfall134.wav 처리 중 오류 발생: [WinError 2] 지정된 파일을 찾을 수 없습니다\n"
     ]
    },
    {
     "name": "stderr",
     "output_type": "stream",
     "text": [
      "c:\\Users\\wonha\\AppData\\Local\\Programs\\Python\\Python39\\lib\\site-packages\\pyloudnorm\\normalize.py:62: UserWarning: Possible clipped samples in output.\n",
      "  warnings.warn(\"Possible clipped samples in output.\")\n",
      "c:\\Users\\wonha\\AppData\\Local\\Programs\\Python\\Python39\\lib\\site-packages\\pyloudnorm\\normalize.py:62: UserWarning: Possible clipped samples in output.\n",
      "  warnings.warn(\"Possible clipped samples in output.\")\n"
     ]
    },
    {
     "name": "stdout",
     "output_type": "stream",
     "text": [
      "오디오 파일 Audio_Files/Non_Fall_Mono\\notfall162.wav 처리 중 오류 발생: [WinError 2] 지정된 파일을 찾을 수 없습니다\n"
     ]
    },
    {
     "name": "stderr",
     "output_type": "stream",
     "text": [
      "c:\\Users\\wonha\\AppData\\Local\\Programs\\Python\\Python39\\lib\\site-packages\\pyloudnorm\\normalize.py:62: UserWarning: Possible clipped samples in output.\n",
      "  warnings.warn(\"Possible clipped samples in output.\")\n",
      "c:\\Users\\wonha\\AppData\\Local\\Programs\\Python\\Python39\\lib\\site-packages\\pyloudnorm\\normalize.py:62: UserWarning: Possible clipped samples in output.\n",
      "  warnings.warn(\"Possible clipped samples in output.\")\n",
      "c:\\Users\\wonha\\AppData\\Local\\Programs\\Python\\Python39\\lib\\site-packages\\pyloudnorm\\normalize.py:62: UserWarning: Possible clipped samples in output.\n",
      "  warnings.warn(\"Possible clipped samples in output.\")\n",
      "c:\\Users\\wonha\\AppData\\Local\\Programs\\Python\\Python39\\lib\\site-packages\\pyloudnorm\\normalize.py:62: UserWarning: Possible clipped samples in output.\n",
      "  warnings.warn(\"Possible clipped samples in output.\")\n",
      "c:\\Users\\wonha\\AppData\\Local\\Programs\\Python\\Python39\\lib\\site-packages\\pyloudnorm\\normalize.py:62: UserWarning: Possible clipped samples in output.\n",
      "  warnings.warn(\"Possible clipped samples in output.\")\n",
      "c:\\Users\\wonha\\AppData\\Local\\Programs\\Python\\Python39\\lib\\site-packages\\pyloudnorm\\normalize.py:62: UserWarning: Possible clipped samples in output.\n",
      "  warnings.warn(\"Possible clipped samples in output.\")\n",
      "c:\\Users\\wonha\\AppData\\Local\\Programs\\Python\\Python39\\lib\\site-packages\\pyloudnorm\\normalize.py:62: UserWarning: Possible clipped samples in output.\n",
      "  warnings.warn(\"Possible clipped samples in output.\")\n",
      "c:\\Users\\wonha\\AppData\\Local\\Programs\\Python\\Python39\\lib\\site-packages\\pyloudnorm\\normalize.py:62: UserWarning: Possible clipped samples in output.\n",
      "  warnings.warn(\"Possible clipped samples in output.\")\n",
      "c:\\Users\\wonha\\AppData\\Local\\Programs\\Python\\Python39\\lib\\site-packages\\pyloudnorm\\normalize.py:62: UserWarning: Possible clipped samples in output.\n",
      "  warnings.warn(\"Possible clipped samples in output.\")\n",
      "c:\\Users\\wonha\\AppData\\Local\\Programs\\Python\\Python39\\lib\\site-packages\\pyloudnorm\\normalize.py:62: UserWarning: Possible clipped samples in output.\n",
      "  warnings.warn(\"Possible clipped samples in output.\")\n",
      "c:\\Users\\wonha\\AppData\\Local\\Programs\\Python\\Python39\\lib\\site-packages\\pyloudnorm\\normalize.py:62: UserWarning: Possible clipped samples in output.\n",
      "  warnings.warn(\"Possible clipped samples in output.\")\n",
      "c:\\Users\\wonha\\AppData\\Local\\Programs\\Python\\Python39\\lib\\site-packages\\pyloudnorm\\normalize.py:62: UserWarning: Possible clipped samples in output.\n",
      "  warnings.warn(\"Possible clipped samples in output.\")\n",
      "c:\\Users\\wonha\\AppData\\Local\\Programs\\Python\\Python39\\lib\\site-packages\\pyloudnorm\\normalize.py:62: UserWarning: Possible clipped samples in output.\n",
      "  warnings.warn(\"Possible clipped samples in output.\")\n"
     ]
    },
    {
     "name": "stdout",
     "output_type": "stream",
     "text": [
      "오디오 파일 Audio_Files/Non_Fall_Mono\\notfall134.wav 처리 중 오류 발생: [WinError 2] 지정된 파일을 찾을 수 없습니다\n"
     ]
    },
    {
     "name": "stderr",
     "output_type": "stream",
     "text": [
      "c:\\Users\\wonha\\AppData\\Local\\Programs\\Python\\Python39\\lib\\site-packages\\pyloudnorm\\normalize.py:62: UserWarning: Possible clipped samples in output.\n",
      "  warnings.warn(\"Possible clipped samples in output.\")\n",
      "c:\\Users\\wonha\\AppData\\Local\\Programs\\Python\\Python39\\lib\\site-packages\\pyloudnorm\\normalize.py:62: UserWarning: Possible clipped samples in output.\n",
      "  warnings.warn(\"Possible clipped samples in output.\")\n",
      "c:\\Users\\wonha\\AppData\\Local\\Programs\\Python\\Python39\\lib\\site-packages\\pyloudnorm\\normalize.py:62: UserWarning: Possible clipped samples in output.\n",
      "  warnings.warn(\"Possible clipped samples in output.\")\n",
      "c:\\Users\\wonha\\AppData\\Local\\Programs\\Python\\Python39\\lib\\site-packages\\pyloudnorm\\normalize.py:62: UserWarning: Possible clipped samples in output.\n",
      "  warnings.warn(\"Possible clipped samples in output.\")\n"
     ]
    },
    {
     "name": "stdout",
     "output_type": "stream",
     "text": [
      "오디오 파일 Audio_Files/Non_Fall_Mono\\notfall162.wav 처리 중 오류 발생: [WinError 2] 지정된 파일을 찾을 수 없습니다\n"
     ]
    },
    {
     "name": "stderr",
     "output_type": "stream",
     "text": [
      "c:\\Users\\wonha\\AppData\\Local\\Programs\\Python\\Python39\\lib\\site-packages\\pyloudnorm\\normalize.py:62: UserWarning: Possible clipped samples in output.\n",
      "  warnings.warn(\"Possible clipped samples in output.\")\n",
      "c:\\Users\\wonha\\AppData\\Local\\Programs\\Python\\Python39\\lib\\site-packages\\pyloudnorm\\normalize.py:62: UserWarning: Possible clipped samples in output.\n",
      "  warnings.warn(\"Possible clipped samples in output.\")\n",
      "c:\\Users\\wonha\\AppData\\Local\\Programs\\Python\\Python39\\lib\\site-packages\\pyloudnorm\\normalize.py:62: UserWarning: Possible clipped samples in output.\n",
      "  warnings.warn(\"Possible clipped samples in output.\")\n",
      "c:\\Users\\wonha\\AppData\\Local\\Programs\\Python\\Python39\\lib\\site-packages\\pyloudnorm\\normalize.py:62: UserWarning: Possible clipped samples in output.\n",
      "  warnings.warn(\"Possible clipped samples in output.\")\n",
      "c:\\Users\\wonha\\AppData\\Local\\Programs\\Python\\Python39\\lib\\site-packages\\pyloudnorm\\normalize.py:62: UserWarning: Possible clipped samples in output.\n",
      "  warnings.warn(\"Possible clipped samples in output.\")\n",
      "c:\\Users\\wonha\\AppData\\Local\\Programs\\Python\\Python39\\lib\\site-packages\\pyloudnorm\\normalize.py:62: UserWarning: Possible clipped samples in output.\n",
      "  warnings.warn(\"Possible clipped samples in output.\")\n",
      "c:\\Users\\wonha\\AppData\\Local\\Programs\\Python\\Python39\\lib\\site-packages\\pyloudnorm\\normalize.py:62: UserWarning: Possible clipped samples in output.\n",
      "  warnings.warn(\"Possible clipped samples in output.\")\n",
      "c:\\Users\\wonha\\AppData\\Local\\Programs\\Python\\Python39\\lib\\site-packages\\pyloudnorm\\normalize.py:62: UserWarning: Possible clipped samples in output.\n",
      "  warnings.warn(\"Possible clipped samples in output.\")\n",
      "c:\\Users\\wonha\\AppData\\Local\\Programs\\Python\\Python39\\lib\\site-packages\\pyloudnorm\\normalize.py:62: UserWarning: Possible clipped samples in output.\n",
      "  warnings.warn(\"Possible clipped samples in output.\")\n",
      "c:\\Users\\wonha\\AppData\\Local\\Programs\\Python\\Python39\\lib\\site-packages\\pyloudnorm\\normalize.py:62: UserWarning: Possible clipped samples in output.\n",
      "  warnings.warn(\"Possible clipped samples in output.\")\n"
     ]
    },
    {
     "name": "stdout",
     "output_type": "stream",
     "text": [
      "오디오 파일 Audio_Files/Non_Fall_Mono\\notfall134.wav 처리 중 오류 발생: [WinError 2] 지정된 파일을 찾을 수 없습니다\n"
     ]
    },
    {
     "name": "stderr",
     "output_type": "stream",
     "text": [
      "c:\\Users\\wonha\\AppData\\Local\\Programs\\Python\\Python39\\lib\\site-packages\\pyloudnorm\\normalize.py:62: UserWarning: Possible clipped samples in output.\n",
      "  warnings.warn(\"Possible clipped samples in output.\")\n",
      "c:\\Users\\wonha\\AppData\\Local\\Programs\\Python\\Python39\\lib\\site-packages\\pyloudnorm\\normalize.py:62: UserWarning: Possible clipped samples in output.\n",
      "  warnings.warn(\"Possible clipped samples in output.\")\n",
      "c:\\Users\\wonha\\AppData\\Local\\Programs\\Python\\Python39\\lib\\site-packages\\pyloudnorm\\normalize.py:62: UserWarning: Possible clipped samples in output.\n",
      "  warnings.warn(\"Possible clipped samples in output.\")\n"
     ]
    },
    {
     "name": "stdout",
     "output_type": "stream",
     "text": [
      "오디오 파일 Audio_Files/Non_Fall_Mono\\notfall162.wav 처리 중 오류 발생: [WinError 2] 지정된 파일을 찾을 수 없습니다\n"
     ]
    },
    {
     "name": "stderr",
     "output_type": "stream",
     "text": [
      "c:\\Users\\wonha\\AppData\\Local\\Programs\\Python\\Python39\\lib\\site-packages\\pyloudnorm\\normalize.py:62: UserWarning: Possible clipped samples in output.\n",
      "  warnings.warn(\"Possible clipped samples in output.\")\n",
      "c:\\Users\\wonha\\AppData\\Local\\Programs\\Python\\Python39\\lib\\site-packages\\pyloudnorm\\normalize.py:62: UserWarning: Possible clipped samples in output.\n",
      "  warnings.warn(\"Possible clipped samples in output.\")\n"
     ]
    }
   ],
   "source": [
    "# 논폴 오디오 증강\n",
    "cnt_nonfall = 1\n",
    "for i in range(10):\n",
    "    for file_name in os.listdir(nonfall_input_path):\n",
    "        full_file_name = os.path.join(nonfall_input_path, file_name)\n",
    "        augmented_output_file_name = os.path.join(nonfall_augmented_output_path, f'notfall_aug_{cnt_nonfall}.wav')\n",
    "\n",
    "        augment_audio_nonfall(full_file_name, augmented_output_file_name)\n",
    "        cnt_nonfall += 1"
   ]
  },
  {
   "cell_type": "code",
   "execution_count": null,
   "metadata": {},
   "outputs": [],
   "source": []
  }
 ],
 "metadata": {
  "kernelspec": {
   "display_name": "Python 3",
   "language": "python",
   "name": "python3"
  },
  "language_info": {
   "codemirror_mode": {
    "name": "ipython",
    "version": 3
   },
   "file_extension": ".py",
   "mimetype": "text/x-python",
   "name": "python",
   "nbconvert_exporter": "python",
   "pygments_lexer": "ipython3",
   "version": "3.9.13"
  }
 },
 "nbformat": 4,
 "nbformat_minor": 2
}
