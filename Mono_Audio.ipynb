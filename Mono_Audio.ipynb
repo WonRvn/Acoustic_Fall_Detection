{
 "cells": [
  {
   "cell_type": "markdown",
   "metadata": {},
   "source": [
    "### **Converting to Mono Audio Dataset**"
   ]
  },
  {
   "cell_type": "code",
   "execution_count": 1,
   "metadata": {},
   "outputs": [],
   "source": [
    "# !git clone https://github.com/oridarshan/FallKol.git"
   ]
  },
  {
   "cell_type": "code",
   "execution_count": 2,
   "metadata": {},
   "outputs": [],
   "source": [
    "# %pip install pydub"
   ]
  },
  {
   "cell_type": "code",
   "execution_count": 3,
   "metadata": {},
   "outputs": [
    {
     "name": "stderr",
     "output_type": "stream",
     "text": [
      "c:\\Users\\wonha\\AppData\\Local\\Programs\\Python\\Python39\\lib\\site-packages\\pydub\\utils.py:170: RuntimeWarning: Couldn't find ffmpeg or avconv - defaulting to ffmpeg, but may not work\n",
      "  warn(\"Couldn't find ffmpeg or avconv - defaulting to ffmpeg, but may not work\", RuntimeWarning)\n"
     ]
    }
   ],
   "source": [
    "from pydub import AudioSegment\n",
    "import os\n",
    "import pandas as pd"
   ]
  },
  {
   "cell_type": "code",
   "execution_count": 4,
   "metadata": {},
   "outputs": [],
   "source": [
    "def stereo_to_mono(audio_file_name, output_file_name):\n",
    "    if audio_file_name.endswith('.wav'):\n",
    "        sound = AudioSegment.from_wav(audio_file_name)\n",
    "        sound = sound.set_channels(1)\n",
    "        sound.export(output_file_name, format=\"wav\")"
   ]
  },
  {
   "cell_type": "code",
   "execution_count": 5,
   "metadata": {},
   "outputs": [],
   "source": [
    "# Define the directory paths\n",
    "file_path = 'Mono_Audio'\n",
    "fall_output_path = 'Mono_Audio/Fall_Mono'\n",
    "notfall_output_path = 'Mono_Audio/Non_Fall_Mono'"
   ]
  },
  {
   "cell_type": "code",
   "execution_count": 6,
   "metadata": {},
   "outputs": [],
   "source": [
    "# Check if output directories exist, if not, create them\n",
    "for path in [fall_output_path, notfall_output_path]:\n",
    "    if not os.path.exists(path):\n",
    "        os.makedirs(path)\n",
    "\n",
    "# Loop through files in the specified directory\n",
    "for file_name in os.listdir(file_path):\n",
    "    full_file_name = os.path.join(file_path, file_name)\n",
    "    \n",
    "    # 파일 이름이 'fall'로 시작하는 경우\n",
    "    if file_name.startswith('fall'):\n",
    "        output_file_name = os.path.join(fall_output_path, file_name)\n",
    "        stereo_to_mono(full_file_name, output_file_name)  # Convert to mono and save\n",
    "        \n",
    "    # 파일 이름이 'notfall'로 시작하는 경우\n",
    "    elif file_name.startswith('notfall'):\n",
    "        output_file_name = os.path.join(notfall_output_path, file_name)\n",
    "        stereo_to_mono(full_file_name, output_file_name)  # Convert to mono and save"
   ]
  }
 ],
 "metadata": {
  "kernelspec": {
   "display_name": "Python 3",
   "language": "python",
   "name": "python3"
  },
  "language_info": {
   "codemirror_mode": {
    "name": "ipython",
    "version": 3
   },
   "file_extension": ".py",
   "mimetype": "text/x-python",
   "name": "python",
   "nbconvert_exporter": "python",
   "pygments_lexer": "ipython3",
   "version": "3.9.13"
  }
 },
 "nbformat": 4,
 "nbformat_minor": 2
}
