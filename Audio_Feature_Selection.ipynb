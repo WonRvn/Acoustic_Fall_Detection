{
 "cells": [
  {
   "cell_type": "code",
   "execution_count": 6,
   "metadata": {},
   "outputs": [],
   "source": [
    "# import pandas as pd\n",
    "# from sklearn.decomposition import PCA\n",
    "# import numpy as np"
   ]
  },
  {
   "cell_type": "code",
   "execution_count": 4,
   "metadata": {},
   "outputs": [],
   "source": [
    "# df = pd.read_csv('semi_dataset.csv')\n",
    "\n",
    "# # 데이터셋에서 특징과 라벨을 분리\n",
    "# features = df.iloc[:, :-1].values\n",
    "# labels = df.iloc[:, -1].values\n",
    "\n",
    "# # PCA 모델 생성 및 주성분 개수 설정\n",
    "# pca = PCA(n_components=10)  # 주성분 개수를 적절하게 설정해주세요.\n",
    "\n",
    "# # 주성분 추출\n",
    "# principal_components = pca.fit_transform(features)\n",
    "\n",
    "# # 주성분을 새로운 특징으로 사용\n",
    "# new_features = principal_components\n",
    "\n",
    "# # 새로운 특징을 DataFrame으로 변환\n",
    "# new_df = pd.DataFrame(new_features)\n",
    "\n",
    "# # 새로운 DataFrame에 라벨 열 추가\n",
    "# new_df['label'] = labels\n",
    "\n",
    "# # CSV 파일로 저장\n",
    "# new_df.to_csv('final_dataset.csv', index=False)"
   ]
  },
  {
   "cell_type": "code",
   "execution_count": null,
   "metadata": {},
   "outputs": [],
   "source": []
  }
 ],
 "metadata": {
  "kernelspec": {
   "display_name": "Python 3",
   "language": "python",
   "name": "python3"
  },
  "language_info": {
   "codemirror_mode": {
    "name": "ipython",
    "version": 3
   },
   "file_extension": ".py",
   "mimetype": "text/x-python",
   "name": "python",
   "nbconvert_exporter": "python",
   "pygments_lexer": "ipython3",
   "version": "3.9.13"
  }
 },
 "nbformat": 4,
 "nbformat_minor": 2
}
